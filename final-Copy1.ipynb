{
 "cells": [
  {
   "cell_type": "markdown",
   "metadata": {},
   "source": [
    "# Objective:\n",
    "Given a corpus, resolve noun-verb ambiguity"
   ]
  },
  {
   "cell_type": "markdown",
   "metadata": {},
   "source": [
    "## 1. Import "
   ]
  },
  {
   "cell_type": "code",
   "execution_count": 1,
   "metadata": {},
   "outputs": [],
   "source": [
    "from matplotlib import pyplot as plt\n",
    "\n",
    "\n",
    "import seaborn as sns\n",
    "\n",
    "from keras.preprocessing.sequence import pad_sequences\n",
    "from keras.utils.np_utils import to_categorical\n",
    "from keras.models import Sequential\n",
    "from keras.layers import Embedding\n",
    "from keras.layers import Dense, Input\n",
    "from keras.layers import TimeDistributed\n",
    "from keras.layers import LSTM, GRU, Bidirectional, SimpleRNN, RNN\n",
    "from keras.models import Model\n",
    "from keras.preprocessing.text import Tokenizer\n",
    "\n",
    "from sklearn.model_selection import train_test_split\n",
    "from sklearn.utils import shuffle"
   ]
  },
  {
   "cell_type": "code",
   "execution_count": 2,
   "metadata": {},
   "outputs": [
    {
     "name": "stderr",
     "output_type": "stream",
     "text": [
      "/opt/conda/lib/python3.8/site-packages/sklearn/utils/deprecation.py:143: FutureWarning: The sklearn.metrics.classification module is  deprecated in version 0.22 and will be removed in version 0.24. The corresponding classes / functions should instead be imported from sklearn.metrics. Anything that cannot be imported from sklearn.metrics is now part of the private API.\n",
      "  warnings.warn(message, FutureWarning)\n"
     ]
    }
   ],
   "source": [
    "from numpy.random import seed\n",
    "seed(1)\n",
    "#from tensorflow import set_random_seed\n",
    "#set_random_seed(2)\n",
    "import pyconll, keras, pickle, os, random, nltk, datetime, warnings, gc, urllib.request, zipfile, collections\n",
    "import numpy as np\n",
    "import matplotlib.pyplot as plt\n",
    "from sklearn.utils import shuffle\n",
    "from sklearn.metrics import recall_score, precision_score, classification_report, accuracy_score, confusion_matrix, f1_score\n",
    "from sklearn.metrics.classification import UndefinedMetricWarning\n",
    "\n",
    "from keras.models import Sequential, Model\n",
    "from keras.layers import Embedding, Dense, Input, concatenate, Layer, Lambda, Dropout, Activation\n",
    "from keras.callbacks import ModelCheckpoint, EarlyStopping, Callback, TensorBoard\n",
    "from keras import backend as K\n",
    "from keras.models import load_model\n",
    "from keras.utils import plot_model\n",
    "from keras.utils.np_utils import to_categorical\n",
    "import tensorflow as tf\n",
    "#import tensorflow_hub as hub\n",
    "import numpy as np\n",
    "#import tensorflow_text\n",
    "import warnings\n",
    "from tqdm import tqdm_notebook\n",
    "from IPython.display import Image \n",
    "#warnings.filterwarnings(action='ignore', category=UndefinedMetricWarning)\n",
    "#from bert.tokenization import FullTokenizer\n",
    "\n"
   ]
  },
  {
   "cell_type": "code",
   "execution_count": 3,
   "metadata": {},
   "outputs": [],
   "source": [
    "#!pip install pyconll"
   ]
  },
  {
   "cell_type": "markdown",
   "metadata": {},
   "source": [
    "## 2. Utility Function - Read conll File and Data processing: \n",
    "This function reads conll file. Here we are creating a generic tag 'None' for all other tags except 'NOUN' and 'VERB' ."
   ]
  },
  {
   "cell_type": "code",
   "execution_count": 4,
   "metadata": {},
   "outputs": [],
   "source": [
    "\n",
    "def read_conllu(path):\n",
    "    data = pyconll.load_from_file(path)\n",
    "    tagged_sentences=[]\n",
    "    t=0\n",
    "    for sentence in data:\n",
    "        tagged_sentence=[]\n",
    "        for token in sentence:\n",
    "            if token.upos=='NN':\n",
    "                tagged_sentence.append((token.form.lower(), str(token.upos)))\n",
    "            elif token.upos=='VERB':\n",
    "                tagged_sentence.append((token.form.lower(), str(token.upos)))\n",
    "            else:\n",
    "                tagged_sentence.append((token.form.lower(), 'None'))\n",
    "        tagged_sentences.append(tagged_sentence)\n",
    "    return tagged_sentences\n",
    "                                   \n",
    "dev = read_conllu('noun-verb/dev.conll')\n"
   ]
  },
  {
   "cell_type": "code",
   "execution_count": 5,
   "metadata": {},
   "outputs": [
    {
     "data": {
      "text/plain": [
       "[[('once', 'None'),\n",
       "  ('you', 'None'),\n",
       "  ('have', 'None'),\n",
       "  ('the', 'None'),\n",
       "  ('new', 'None'),\n",
       "  ('glass', 'None'),\n",
       "  (',', 'None'),\n",
       "  ('cleaning', 'VERB'),\n",
       "  ('and', 'None'),\n",
       "  ('replacing', 'None'),\n",
       "  ('it', 'None'),\n",
       "  ('is', 'None'),\n",
       "  ('all', 'None'),\n",
       "  ('that', 'None'),\n",
       "  (\"'s\", 'None'),\n",
       "  ('left', 'None'),\n",
       "  ('.', 'None')],\n",
       " [('the', 'None'),\n",
       "  ('catchment', 'None'),\n",
       "  ('is', 'None'),\n",
       "  ('situated', 'None'),\n",
       "  ('on', 'None'),\n",
       "  ('sandstone', 'None'),\n",
       "  ('which', 'None'),\n",
       "  ('has', 'None'),\n",
       "  ('a', 'None'),\n",
       "  ('low', 'None'),\n",
       "  ('rate', 'None'),\n",
       "  ('of', 'None'),\n",
       "  ('weathering', 'VERB'),\n",
       "  ('.', 'None')]]"
      ]
     },
     "execution_count": 5,
     "metadata": {},
     "output_type": "execute_result"
    }
   ],
   "source": [
    "dev[:2]"
   ]
  },
  {
   "cell_type": "code",
   "execution_count": 6,
   "metadata": {},
   "outputs": [],
   "source": [
    "train = read_conllu('noun-verb/train.conll')\n",
    "test = read_conllu('noun-verb/test.conll')"
   ]
  },
  {
   "cell_type": "code",
   "execution_count": 7,
   "metadata": {},
   "outputs": [
    {
     "data": {
      "text/plain": [
       "[('license', 'NN'),\n",
       " ('plates', 'None'),\n",
       " ('of', 'None'),\n",
       " ('cars', 'None'),\n",
       " ('from', 'None'),\n",
       " ('your', 'None'),\n",
       " ('area', 'None'),\n",
       " ('or', 'None'),\n",
       " ('your', 'None'),\n",
       " ('destination', 'None'),\n",
       " ('.', 'None')]"
      ]
     },
     "execution_count": 7,
     "metadata": {},
     "output_type": "execute_result"
    }
   ],
   "source": [
    "train[0]"
   ]
  },
  {
   "cell_type": "code",
   "execution_count": 8,
   "metadata": {},
   "outputs": [
    {
     "data": {
      "text/plain": [
       "[[('retail', 'None'),\n",
       "  ('goods', 'None'),\n",
       "  ('were', 'None'),\n",
       "  ('seldom', 'None'),\n",
       "  ('sold', 'None'),\n",
       "  ('with', 'None'),\n",
       "  ('shipping', 'None'),\n",
       "  ('any', 'None'),\n",
       "  ('faster', 'None'),\n",
       "  ('than', 'None'),\n",
       "  ('overnight', 'None'),\n",
       "  ('.', 'None')],\n",
       " [('if', 'None'),\n",
       "  ('you', 'None'),\n",
       "  (\"'ve\", 'None'),\n",
       "  ('changed', 'None'),\n",
       "  ('this', 'None'),\n",
       "  (',', 'None'),\n",
       "  ('press', 'VERB'),\n",
       "  ('``', 'None'),\n",
       "  ('preview', 'None'),\n",
       "  (\"''\", 'None'),\n",
       "  ('to', 'None'),\n",
       "  ('update', 'None'),\n",
       "  ('this', 'None'),\n",
       "  ('message', 'None'),\n",
       "  ('.', 'None')]]"
      ]
     },
     "execution_count": 8,
     "metadata": {},
     "output_type": "execute_result"
    }
   ],
   "source": [
    "test[:2]"
   ]
  },
  {
   "cell_type": "code",
   "execution_count": 9,
   "metadata": {},
   "outputs": [],
   "source": [
    "tagged_sentences = train+dev"
   ]
  },
  {
   "cell_type": "code",
   "execution_count": 10,
   "metadata": {},
   "outputs": [
    {
     "data": {
      "text/plain": [
       "[('some', 'None'),\n",
       " ('proponents', 'None'),\n",
       " ('of', 'None'),\n",
       " ('strong', 'None'),\n",
       " ('ai', 'None'),\n",
       " ('speculated', 'None'),\n",
       " ('that', 'None'),\n",
       " ('computers', 'None'),\n",
       " ('in', 'None'),\n",
       " ('connection', 'None'),\n",
       " ('with', 'None'),\n",
       " ('blue', 'None'),\n",
       " ('brain', 'None'),\n",
       " ('and', 'None'),\n",
       " ('soul', 'None'),\n",
       " ('catcher', 'None'),\n",
       " ('may', 'None'),\n",
       " ('exceed', 'None'),\n",
       " ('human', 'None'),\n",
       " ('intellectual', 'None'),\n",
       " ('capacity', 'None'),\n",
       " ('by', 'None'),\n",
       " ('around', 'None'),\n",
       " ('2015', 'None'),\n",
       " (',', 'None'),\n",
       " ('and', 'None'),\n",
       " ('that', 'None'),\n",
       " ('it', 'None'),\n",
       " ('is', 'None'),\n",
       " ('likely', 'None'),\n",
       " ('that', 'None'),\n",
       " ('we', 'None'),\n",
       " ('will', 'None'),\n",
       " ('be', 'None'),\n",
       " ('able', 'None'),\n",
       " ('to', 'None'),\n",
       " ('download', 'None'),\n",
       " ('the', 'None'),\n",
       " ('human', 'None'),\n",
       " ('brain', 'None'),\n",
       " ('at', 'None'),\n",
       " ('some', 'None'),\n",
       " ('time', 'None'),\n",
       " ('around', 'None'),\n",
       " ('2050', 'None'),\n",
       " ('.', 'None')]"
      ]
     },
     "execution_count": 10,
     "metadata": {},
     "output_type": "execute_result"
    }
   ],
   "source": [
    "tagged_sentences[7]"
   ]
  },
  {
   "cell_type": "code",
   "execution_count": 11,
   "metadata": {},
   "outputs": [
    {
     "data": {
      "text/plain": [
       "[('some', 'None'),\n",
       " ('proponents', 'None'),\n",
       " ('of', 'None'),\n",
       " ('strong', 'None'),\n",
       " ('ai', 'None'),\n",
       " ('speculated', 'None'),\n",
       " ('that', 'None'),\n",
       " ('computers', 'None'),\n",
       " ('in', 'None'),\n",
       " ('connection', 'None'),\n",
       " ('with', 'None'),\n",
       " ('blue', 'None'),\n",
       " ('brain', 'None'),\n",
       " ('and', 'None'),\n",
       " ('soul', 'None'),\n",
       " ('catcher', 'None'),\n",
       " ('may', 'None'),\n",
       " ('exceed', 'None'),\n",
       " ('human', 'None'),\n",
       " ('intellectual', 'None'),\n",
       " ('capacity', 'None'),\n",
       " ('by', 'None'),\n",
       " ('around', 'None'),\n",
       " ('2015', 'None'),\n",
       " (',', 'None'),\n",
       " ('and', 'None'),\n",
       " ('that', 'None'),\n",
       " ('it', 'None'),\n",
       " ('is', 'None'),\n",
       " ('likely', 'None'),\n",
       " ('that', 'None'),\n",
       " ('we', 'None'),\n",
       " ('will', 'None'),\n",
       " ('be', 'None'),\n",
       " ('able', 'None'),\n",
       " ('to', 'None'),\n",
       " ('download', 'None'),\n",
       " ('the', 'None'),\n",
       " ('human', 'None'),\n",
       " ('brain', 'None'),\n",
       " ('at', 'None'),\n",
       " ('some', 'None'),\n",
       " ('time', 'None'),\n",
       " ('around', 'None'),\n",
       " ('2050', 'None'),\n",
       " ('.', 'None')]"
      ]
     },
     "execution_count": 11,
     "metadata": {},
     "output_type": "execute_result"
    }
   ],
   "source": [
    "tagged_sentences[7]"
   ]
  },
  {
   "cell_type": "markdown",
   "metadata": {},
   "source": [
    "## (2.a)  Creating Input and Labels sets"
   ]
  },
  {
   "cell_type": "code",
   "execution_count": 12,
   "metadata": {},
   "outputs": [],
   "source": [
    "X = [] # store input sequence\n",
    "Y = [] # store output sequence\n",
    "\n",
    "for sentence in tagged_sentences:\n",
    "    X_sentence = []\n",
    "    Y_sentence = []\n",
    "    for entity in sentence:         \n",
    "        X_sentence.append(entity[0])  # entity[0] contains the word\n",
    "        Y_sentence.append(entity[1])  # entity[1] contains corresponding tag\n",
    "        \n",
    "    X.append(X_sentence)\n",
    "    Y.append(Y_sentence)"
   ]
  },
  {
   "cell_type": "code",
   "execution_count": 13,
   "metadata": {},
   "outputs": [],
   "source": [
    "num_words = len(set([word.lower() for sentence in X for word in sentence]))\n",
    "num_tags   = len(set([word.lower() for sentence in Y for word in sentence]))"
   ]
  },
  {
   "cell_type": "code",
   "execution_count": 14,
   "metadata": {},
   "outputs": [
    {
     "data": {
      "text/plain": [
       "{'nn', 'none', 'verb'}"
      ]
     },
     "execution_count": 14,
     "metadata": {},
     "output_type": "execute_result"
    }
   ],
   "source": [
    "(set([word.lower() for sentence in Y for word in sentence]))"
   ]
  },
  {
   "cell_type": "markdown",
   "metadata": {},
   "source": [
    "### Sanity Check"
   ]
  },
  {
   "cell_type": "code",
   "execution_count": 15,
   "metadata": {},
   "outputs": [
    {
     "name": "stdout",
     "output_type": "stream",
     "text": [
      "Total number of tagged sentences: 25825\n",
      "Vocabulary size: 30058\n",
      "Total number of tags: 3\n"
     ]
    }
   ],
   "source": [
    "print(\"Total number of tagged sentences: {}\".format(len(X)))\n",
    "print(\"Vocabulary size: {}\".format(num_words))\n",
    "print(\"Total number of tags: {}\".format(num_tags))"
   ]
  },
  {
   "cell_type": "code",
   "execution_count": 16,
   "metadata": {},
   "outputs": [
    {
     "name": "stdout",
     "output_type": "stream",
     "text": [
      "sample X:  ['license', 'plates', 'of', 'cars', 'from', 'your', 'area', 'or', 'your', 'destination', '.'] \n",
      "\n",
      "sample Y:  ['NN', 'None', 'None', 'None', 'None', 'None', 'None', 'None', 'None', 'None', 'None'] \n",
      "\n"
     ]
    }
   ],
   "source": [
    "# let's look at first data point\n",
    "# this is one data point that will be fed to the RNN\n",
    "print('sample X: ', X[0], '\\n')\n",
    "print('sample Y: ', Y[0], '\\n')"
   ]
  },
  {
   "cell_type": "code",
   "execution_count": 17,
   "metadata": {},
   "outputs": [
    {
     "name": "stdout",
     "output_type": "stream",
     "text": [
      "Length of first input sequence  : 11\n",
      "Length of first output sequence : 11\n"
     ]
    }
   ],
   "source": [
    "print(\"Length of first input sequence  : {}\".format(len(X[0])))\n",
    "print(\"Length of first output sequence : {}\".format(len(Y[0])))"
   ]
  },
  {
   "cell_type": "markdown",
   "metadata": {},
   "source": [
    "## (2.b) Tokenize input and labels"
   ]
  },
  {
   "cell_type": "code",
   "execution_count": 18,
   "metadata": {},
   "outputs": [],
   "source": [
    "word_tokenizer = Tokenizer()                      \n",
    "word_tokenizer.fit_on_texts(X)                    \n",
    "X_encoded = word_tokenizer.texts_to_sequences(X) "
   ]
  },
  {
   "cell_type": "code",
   "execution_count": 19,
   "metadata": {},
   "outputs": [],
   "source": [
    "# encode Y\n",
    "\n",
    "tag_tokenizer = Tokenizer()\n",
    "tag_tokenizer.fit_on_texts(Y)\n",
    "Y_encoded = tag_tokenizer.texts_to_sequences(Y)"
   ]
  },
  {
   "cell_type": "markdown",
   "metadata": {},
   "source": [
    "### Peek on tokenized dataset"
   ]
  },
  {
   "cell_type": "code",
   "execution_count": 20,
   "metadata": {},
   "outputs": [
    {
     "name": "stdout",
     "output_type": "stream",
     "text": [
      "** Raw data point ** \n",
      " ---------------------------------------------------------------------------------------------------- \n",
      "\n",
      "X:  ['license', 'plates', 'of', 'cars', 'from', 'your', 'area', 'or', 'your', 'destination', '.'] \n",
      "\n",
      "Y:  ['NN', 'None', 'None', 'None', 'None', 'None', 'None', 'None', 'None', 'None', 'None'] \n",
      "\n",
      "\n",
      "** Encoded data point ** \n",
      " ---------------------------------------------------------------------------------------------------- \n",
      "\n",
      "X:  [2698, 4986, 6, 1359, 20, 11, 204, 15, 11, 4196, 1] \n",
      "\n",
      "Y:  [2, 1, 1, 1, 1, 1, 1, 1, 1, 1, 1] \n",
      "\n"
     ]
    }
   ],
   "source": [
    "# look at first encoded data point\n",
    "\n",
    "print(\"** Raw data point **\", \"\\n\", \"-\"*100, \"\\n\")\n",
    "print('X: ', X[0], '\\n')\n",
    "print('Y: ', Y[0], '\\n')\n",
    "print()\n",
    "print(\"** Encoded data point **\", \"\\n\", \"-\"*100, \"\\n\")\n",
    "print('X: ', X_encoded[0], '\\n')\n",
    "print('Y: ', Y_encoded[0], '\\n')"
   ]
  },
  {
   "cell_type": "markdown",
   "metadata": {},
   "source": [
    "### Sanity Check"
   ]
  },
  {
   "cell_type": "code",
   "execution_count": 21,
   "metadata": {},
   "outputs": [
    {
     "name": "stdout",
     "output_type": "stream",
     "text": [
      "0 sentences have disparate input-output lengths.\n"
     ]
    }
   ],
   "source": [
    "\n",
    "different_length = [1 if len(input) != len(output) else 0 for input, output in zip(X_encoded, Y_encoded)]\n",
    "print(\"{} sentences have disparate input-output lengths.\".format(sum(different_length)))"
   ]
  },
  {
   "cell_type": "code",
   "execution_count": 22,
   "metadata": {},
   "outputs": [
    {
     "name": "stdout",
     "output_type": "stream",
     "text": [
      "Length of longest sentence: 157\n"
     ]
    }
   ],
   "source": [
    "# check length of longest sentence\n",
    "lengths = [len(seq) for seq in X_encoded]\n",
    "print(\"Length of longest sentence: {}\".format(max(lengths)))"
   ]
  },
  {
   "cell_type": "code",
   "execution_count": 23,
   "metadata": {},
   "outputs": [
    {
     "name": "stderr",
     "output_type": "stream",
     "text": [
      "/opt/conda/lib/python3.8/site-packages/seaborn/_decorators.py:36: FutureWarning: Pass the following variable as a keyword arg: x. From version 0.12, the only valid positional argument will be `data`, and passing other arguments without an explicit keyword will result in an error or misinterpretation.\n",
      "  warnings.warn(\n"
     ]
    },
    {
     "data": {
      "image/png": "[encoded data removed]",
      "text/plain": [
       "<Figure size 432x288 with 1 Axes>"
      ]
     },
     "metadata": {
      "needs_background": "light"
     },
     "output_type": "display_data"
    }
   ],
   "source": [
    "sns.boxplot(lengths)\n",
    "plt.show()"
   ]
  },
  {
   "cell_type": "markdown",
   "metadata": {},
   "source": [
    "## (2.c) Padding to tokenization"
   ]
  },
  {
   "cell_type": "code",
   "execution_count": 65,
   "metadata": {},
   "outputs": [],
   "source": [
    "\n",
    "MAX_SEQ_LENGTH = 100  # sequences greater than 100 in length will be truncated\n",
    "\n",
    "X_padded = pad_sequences(X_encoded, maxlen=MAX_SEQ_LENGTH, padding=\"pre\", truncating=\"post\")\n",
    "Y_padded = pad_sequences(Y_encoded, maxlen=MAX_SEQ_LENGTH, padding=\"pre\", truncating=\"post\")"
   ]
  },
  {
   "cell_type": "code",
   "execution_count": 66,
   "metadata": {},
   "outputs": [
    {
     "name": "stdout",
     "output_type": "stream",
     "text": [
      "[   0    0    0    0    0    0    0    0    0    0    0    0    0    0\n",
      "    0    0    0    0    0    0    0    0    0    0    0    0    0    0\n",
      "    0    0    0    0    0    0    0    0    0    0    0    0    0    0\n",
      "    0    0    0    0    0    0    0    0    0    0    0    0    0    0\n",
      "    0    0    0    0    0    0    0    0    0    0    0    0    0    0\n",
      "    0    0    0    0    0    0    0    0    0    0    0    0    0    0\n",
      "    0    0    0    0    0 2698 4986    6 1359   20   11  204   15   11\n",
      " 4196    1] \n",
      "--\n",
      "--\n",
      "[0 0 0 0 0 0 0 0 0 0 0 0 0 0 0 0 0 0 0 0 0 0 0 0 0 0 0 0 0 0 0 0 0 0 0 0 0\n",
      " 0 0 0 0 0 0 0 0 0 0 0 0 0 0 0 0 0 0 0 0 0 0 0 0 0 0 0 0 0 0 0 0 0 0 0 0 0\n",
      " 0 0 0 0 0 0 0 0 0 0 0 0 0 0 0 2 1 1 1 1 1 1 1 1 1 1]\n"
     ]
    }
   ],
   "source": [
    "print(X_padded[0], \"\\n--\"*2)\n",
    "print(Y_padded[0])"
   ]
  },
  {
   "cell_type": "code",
   "execution_count": 67,
   "metadata": {},
   "outputs": [],
   "source": [
    "# assign padded sequences to X and Y\n",
    "X, Y = X_padded, Y_padded"
   ]
  },
  {
   "cell_type": "markdown",
   "metadata": {},
   "source": [
    "## 3. Using Word Embeddings\n",
    "We are using GLOVE Embedding with 300 dimensions."
   ]
  },
  {
   "cell_type": "code",
   "execution_count": 68,
   "metadata": {},
   "outputs": [],
   "source": [
    "# assign word vectors from word2vec model\n",
    "import numpy as np\n",
    "EMBEDDING_SIZE  = 300  # each word in word2vec model is represented using a 300 dimensional vector\n",
    "VOCABULARY_SIZE = len(word_tokenizer.word_index) + 1\n",
    "\n",
    "# create an empty embedding matix\n",
    "embedding_weights = np.zeros((VOCABULARY_SIZE, EMBEDDING_SIZE))\n",
    "\n",
    "# create a word to index dictionary mapping\n",
    "word2id = word_tokenizer.word_index\n"
   ]
  },
  {
   "cell_type": "code",
   "execution_count": 69,
   "metadata": {},
   "outputs": [
    {
     "name": "stdout",
     "output_type": "stream",
     "text": [
      "total 3.0G\n",
      "drwxrwxr--  2 x_dsp_otw PUBLIC 4.0K Nov 17 07:23 .\n",
      "drwxrwxr-- 14 x_dsp_otw PUBLIC 8.0K Apr 26 13:42 ..\n",
      "-rw-rw-r--  1 x_dsp_otw PUBLIC 332M Aug  4  2014 glove.6B.100d.txt\n",
      "-rw-rw-r--  1 x_dsp_otw PUBLIC 662M Aug  4  2014 glove.6B.200d.txt\n",
      "-rw-rw-r--  1 x_dsp_otw PUBLIC 990M Aug 27  2014 glove.6B.300d.txt\n",
      "-rw-rw-r--  1 x_dsp_otw PUBLIC 164M Aug  4  2014 glove.6B.50d.txt\n",
      "-rw-rw-r--  1 x_dsp_otw PUBLIC 823M Oct 25  2015 glove.6B.zip\n"
     ]
    }
   ],
   "source": [
    "! ls -lha ../dno/glove_data\n"
   ]
  },
  {
   "cell_type": "markdown",
   "metadata": {},
   "source": [
    "## (3.a) Load Embedding from disk"
   ]
  },
  {
   "cell_type": "code",
   "execution_count": 70,
   "metadata": {},
   "outputs": [
    {
     "name": "stdout",
     "output_type": "stream",
     "text": [
      "Loaded 400000 word vectors.\n"
     ]
    }
   ],
   "source": [
    "from numpy import array\n",
    "from numpy import asarray\n",
    "embeddings_index = dict()\n",
    "f = open('../dno/glove_data/glove.6B.300d.txt')\n",
    "for line in f:\n",
    "\tvalues = line.split()\n",
    "\tword = values[0]\n",
    "\tcoefs = asarray(values[1:], dtype='float32')\n",
    "\tembeddings_index[word] = coefs   ### eg. { 'good': [....100 values], 'bad': [.... 100 values]}\n",
    "f.close()\n",
    "print('Loaded %s word vectors.' % len(embeddings_index))"
   ]
  },
  {
   "cell_type": "markdown",
   "metadata": {},
   "source": [
    "## (3.b) Create Embedding Matrix"
   ]
  },
  {
   "cell_type": "code",
   "execution_count": 71,
   "metadata": {},
   "outputs": [
    {
     "name": "stdout",
     "output_type": "stream",
     "text": [
      "(30059, 300)\n"
     ]
    }
   ],
   "source": [
    "embedding_matrix = np.zeros((VOCABULARY_SIZE, EMBEDDING_SIZE))\n",
    "for word, i in word2id.items():  ## eg. {\"date\":1 , \"person\" :2 ...... \"something\":14369} --> every word is assigned one number\n",
    "    embedding_vector = embeddings_index.get(word)\n",
    "    if embedding_vector is not None:\n",
    "        embedding_matrix[i] = embedding_vector\n",
    "\n",
    "print(embedding_matrix.shape)"
   ]
  },
  {
   "cell_type": "code",
   "execution_count": 72,
   "metadata": {},
   "outputs": [
    {
     "name": "stdout",
     "output_type": "stream",
     "text": [
      "Embeddings shape: (30059, 300)\n"
     ]
    }
   ],
   "source": [
    "\n",
    "print(\"Embeddings shape: {}\".format(embedding_matrix.shape))"
   ]
  },
  {
   "cell_type": "code",
   "execution_count": 73,
   "metadata": {},
   "outputs": [
    {
     "data": {
      "text/plain": [
       "array([-6.78319991e-01, -2.86579996e-01, -2.89039999e-01,  1.50989994e-01,\n",
       "       -4.67200011e-01, -1.74239993e-01, -7.77899981e-01,  3.54689986e-01,\n",
       "        6.94309995e-02, -1.74090004e+00, -4.86990018e-03,  3.28130007e-01,\n",
       "       -5.54430008e-01,  5.13880014e-01,  5.30650020e-01,  2.37179995e-02,\n",
       "        2.25419998e-01,  7.68660009e-01,  1.83479995e-01,  1.67649999e-01,\n",
       "       -1.52930006e-01, -2.72009999e-01, -5.33890016e-02,  1.07270002e+00,\n",
       "       -4.66780007e-01, -2.45959997e-01,  1.92049995e-01, -7.61379972e-02,\n",
       "        3.97749990e-02,  1.65460005e-01,  6.41880035e-02,  4.12070006e-01,\n",
       "       -4.12900001e-01,  8.81760001e-01, -6.55099988e-01, -1.99939996e-01,\n",
       "        2.80360013e-01, -8.30579996e-01,  1.03740003e-02,  2.50169992e-01,\n",
       "       -2.70720005e-01, -5.80580011e-02,  4.07059997e-01, -2.38710001e-01,\n",
       "        1.89649999e-01, -4.79299985e-02, -2.00269997e-01,  8.79830003e-01,\n",
       "       -1.58519998e-01, -2.81040013e-01,  1.54970005e-01, -4.32070009e-02,\n",
       "        4.27940011e-01, -8.60329986e-01, -2.62419999e-01, -1.04550002e-02,\n",
       "        2.35009998e-01, -6.67069972e-01,  9.13309991e-01,  5.24290025e-01,\n",
       "        5.89389980e-01,  5.75860023e-01,  5.51800013e-01,  7.63290003e-03,\n",
       "       -8.52040015e-03,  3.05539995e-01,  7.66969979e-01,  5.91080010e-01,\n",
       "        7.05380023e-01,  1.12379998e-01, -9.04030025e-01, -1.64470002e-02,\n",
       "       -2.33309999e-01,  1.10009998e-01,  4.21310008e-01,  1.36059999e-01,\n",
       "        7.49329984e-01,  2.18810007e-01,  9.10219997e-02,  1.04849995e-03,\n",
       "       -5.90290017e-02, -8.76909971e-01, -1.79810002e-01, -7.03279972e-01,\n",
       "       -4.34740007e-01,  5.10560013e-02, -3.46109986e-01, -3.54960002e-02,\n",
       "        2.08989993e-01,  9.78150010e-01, -1.18239999e+00,  2.25879997e-01,\n",
       "       -3.19959998e-01,  3.84220004e-01,  5.32469988e-01, -2.26199999e-03,\n",
       "        1.54479995e-01, -5.09670019e-01, -2.59169996e-01, -5.97100019e-01,\n",
       "        3.91070008e-01, -1.42220005e-01,  2.70770013e-01, -3.56279999e-01,\n",
       "        4.35770005e-01, -8.89910012e-02, -5.54579973e-01, -1.71430007e-01,\n",
       "        5.89839995e-01,  8.07129979e-01,  2.80279994e-01,  2.23279998e-01,\n",
       "        2.15259995e-02,  2.75530010e-01, -2.95320004e-01,  5.22369981e-01,\n",
       "       -7.27289975e-01,  1.15450002e-01,  2.29289994e-01,  7.50719979e-02,\n",
       "        5.44809997e-01,  1.90210000e-01, -4.02980000e-01,  5.55730015e-02,\n",
       "       -4.91420001e-01, -4.70310003e-01, -2.51729995e-01,  3.56559992e-01,\n",
       "        1.10600002e-01, -5.69069982e-01, -1.35309994e-01, -3.63730013e-01,\n",
       "        4.17510003e-01, -5.31239986e-01,  2.78470010e-01,  4.30660009e-01,\n",
       "        7.96279982e-02, -2.59310007e-01,  3.69370013e-01,  3.42449993e-01,\n",
       "        1.04070000e-01, -2.40970001e-01, -2.68579990e-01, -7.66179979e-01,\n",
       "        2.83939987e-01,  7.75479972e-02,  4.09359992e-01, -3.26880008e-01,\n",
       "        7.38760009e-02, -9.17359963e-02,  3.61279994e-01,  1.81349993e-01,\n",
       "        5.68109984e-03,  2.89689988e-01, -2.62989998e-01, -6.43810034e-02,\n",
       "       -2.42249995e-01,  3.40600014e-01,  2.99080014e-01, -1.42340004e-01,\n",
       "        4.99089986e-01,  2.54579991e-01,  3.51770014e-01, -1.95889995e-01,\n",
       "       -3.40860009e-01,  2.33730003e-01, -2.57090002e-01, -1.38769999e-01,\n",
       "       -2.62769997e-01, -5.27059995e-02, -1.15950003e-01, -4.81559992e-01,\n",
       "       -9.06069994e-01,  4.66360003e-01,  5.15949987e-02, -3.47409993e-02,\n",
       "       -1.49460003e-01, -5.13090014e-01, -2.72040009e-01,  3.27160001e-01,\n",
       "       -7.40730017e-02, -3.41049999e-01, -4.65759993e-01, -1.54269993e-01,\n",
       "        1.41880006e-01, -7.43120015e-01, -2.39130005e-01, -5.41849993e-02,\n",
       "        1.17399998e-01, -2.26400001e-03, -1.98280007e-01, -1.07850000e-01,\n",
       "        7.48780012e-01,  2.26329997e-01,  2.80889999e-02, -4.77860004e-01,\n",
       "       -5.50610006e-01,  3.83340001e-01, -6.21909976e-01, -2.51230001e-01,\n",
       "        3.84229988e-01,  6.22010008e-02, -2.90529996e-01, -1.32119998e-01,\n",
       "        2.63339996e-01, -1.29400000e-01, -4.84549999e-01,  4.34100002e-01,\n",
       "       -3.50459993e-01,  2.31820002e-01, -2.41270006e-01, -4.32990007e-02,\n",
       "       -1.98369995e-01,  3.03009987e-01,  3.01409990e-01,  2.58749992e-01,\n",
       "       -2.93430001e-01, -1.61919996e-01,  5.45680001e-02, -1.19340003e-01,\n",
       "       -4.28759992e-01,  8.48630011e-01, -5.94590008e-01, -9.74730030e-02,\n",
       "       -5.86160012e-02, -4.36419994e-01,  5.18890023e-01,  1.39689997e-01,\n",
       "        1.68069992e-02, -1.65910006e-01, -4.63600010e-02,  3.05130005e-01,\n",
       "       -9.79030013e-01,  2.14389995e-01, -3.02929997e-01,  3.53190005e-01,\n",
       "        4.18559998e-01, -2.18089998e-01, -3.10389996e-02,  6.70929998e-02,\n",
       "        3.06270003e-01,  4.46139991e-01,  5.24039984e-01, -2.70020008e-01,\n",
       "       -3.00119996e-01,  4.01930004e-01, -3.61580014e-01,  3.36329997e-01,\n",
       "       -4.61690009e-01,  2.04899997e-01, -9.88520030e-03,  5.47029972e-01,\n",
       "       -8.74790028e-02,  1.32769998e-02, -3.00940007e-01,  1.13009997e-01,\n",
       "        4.19010013e-01,  1.49660006e-01,  2.88679987e-01, -1.17239997e-01,\n",
       "       -5.26440024e-01, -6.06300011e-02, -6.89090014e-01, -1.57749996e-01,\n",
       "       -2.07599998e-01, -1.20779999e-01,  2.87470013e-01, -4.68100011e-02,\n",
       "        2.49050006e-01,  2.54539996e-01,  2.03580007e-01, -3.89400005e-01,\n",
       "       -1.03260003e-01, -5.46769977e-01, -1.06679998e-01, -8.76979977e-02,\n",
       "       -1.76339996e+00,  1.38990000e-01,  7.26069987e-01, -2.11840004e-01,\n",
       "        4.49550012e-03, -8.62720013e-01, -1.71179995e-01, -2.77420014e-01,\n",
       "        1.05529996e-02, -3.02100003e-01,  4.39390019e-02, -1.87560007e-01,\n",
       "        3.70599985e-01,  6.37669981e-01, -1.60070002e-01, -9.68329981e-02,\n",
       "       -2.02800006e-01, -1.73060000e-01,  8.23090002e-02,  3.74769986e-01,\n",
       "       -2.31710002e-01, -1.70499995e-01, -5.29969990e-01,  2.94910014e-01])"
      ]
     },
     "execution_count": 73,
     "metadata": {},
     "output_type": "execute_result"
    }
   ],
   "source": [
    "# let's look at an embedding of a word\n",
    "embedding_matrix[word_tokenizer.word_index['language']]"
   ]
  },
  {
   "cell_type": "code",
   "execution_count": 74,
   "metadata": {},
   "outputs": [],
   "source": [
    "# one-hot encode Y\n",
    "Y = to_categorical(Y)"
   ]
  },
  {
   "cell_type": "code",
   "execution_count": 75,
   "metadata": {},
   "outputs": [
    {
     "name": "stdout",
     "output_type": "stream",
     "text": [
      "(25825, 100, 4)\n"
     ]
    }
   ],
   "source": [
    "print(Y.shape)"
   ]
  },
  {
   "cell_type": "markdown",
   "metadata": {},
   "source": [
    "## 4) Test Train split"
   ]
  },
  {
   "cell_type": "code",
   "execution_count": 76,
   "metadata": {},
   "outputs": [],
   "source": [
    "TEST_SIZE = 0.15\n",
    "X_train, X_test, Y_train, Y_test = train_test_split(X, Y, test_size=TEST_SIZE, random_state=11023)"
   ]
  },
  {
   "cell_type": "code",
   "execution_count": 77,
   "metadata": {},
   "outputs": [],
   "source": [
    "# split training data into training and validation sets\n",
    "VALID_SIZE = 0.15\n",
    "X_train, X_validation, Y_train, Y_validation = train_test_split(X_train, Y_train, test_size=VALID_SIZE, random_state=4)"
   ]
  },
  {
   "cell_type": "code",
   "execution_count": 78,
   "metadata": {},
   "outputs": [
    {
     "name": "stdout",
     "output_type": "stream",
     "text": [
      "TRAINING DATA\n",
      "Shape of input sequences: (18658, 100)\n",
      "Shape of output sequences: (18658, 100, 4)\n",
      "--------------------------------------------------\n",
      "VALIDATION DATA\n",
      "Shape of input sequences: (3293, 100)\n",
      "Shape of output sequences: (3293, 100, 4)\n",
      "--------------------------------------------------\n",
      "TESTING DATA\n",
      "Shape of input sequences: (3874, 100)\n",
      "Shape of output sequences: (3874, 100, 4)\n"
     ]
    }
   ],
   "source": [
    "# print number of samples in each set\n",
    "print(\"TRAINING DATA\")\n",
    "print('Shape of input sequences: {}'.format(X_train.shape))\n",
    "print('Shape of output sequences: {}'.format(Y_train.shape))\n",
    "print(\"-\"*50)\n",
    "print(\"VALIDATION DATA\")\n",
    "print('Shape of input sequences: {}'.format(X_validation.shape))\n",
    "print('Shape of output sequences: {}'.format(Y_validation.shape))\n",
    "print(\"-\"*50)\n",
    "print(\"TESTING DATA\")\n",
    "print('Shape of input sequences: {}'.format(X_test.shape))\n",
    "print('Shape of output sequences: {}'.format(Y_test.shape))"
   ]
  },
  {
   "cell_type": "code",
   "execution_count": 79,
   "metadata": {},
   "outputs": [],
   "source": [
    "# total number of tags\n",
    "NUM_CLASSES = Y.shape[2]"
   ]
  },
  {
   "cell_type": "markdown",
   "metadata": {},
   "source": [
    "## 5. Create BiLSTM Model\n",
    "\n",
    "We experimented various BiLSTM architectures. Finally we used BiLSTM models and made embedding Trainable (In order to add contextual information to our Embedding)"
   ]
  },
  {
   "cell_type": "code",
   "execution_count": 80,
   "metadata": {},
   "outputs": [],
   "source": [
    "# create architecture\n",
    "\n",
    "bidirect_model = Sequential()\n",
    "bidirect_model.add(Embedding(input_dim     = VOCABULARY_SIZE,\n",
    "                             output_dim    = EMBEDDING_SIZE,\n",
    "                             input_length  = MAX_SEQ_LENGTH,\n",
    "                             weights       = [embedding_matrix],\n",
    "                             trainable     = True\n",
    "))\n",
    "bidirect_model.add(Bidirectional(LSTM(64, return_sequences=True)))\n",
    "bidirect_model.add(TimeDistributed(Dense(NUM_CLASSES, activation='softmax')))"
   ]
  },
  {
   "cell_type": "code",
   "execution_count": 81,
   "metadata": {},
   "outputs": [
    {
     "name": "stdout",
     "output_type": "stream",
     "text": [
      "Model: \"sequential_1\"\n",
      "_________________________________________________________________\n",
      "Layer (type)                 Output Shape              Param #   \n",
      "=================================================================\n",
      "embedding_1 (Embedding)      (None, 100, 300)          9017700   \n",
      "_________________________________________________________________\n",
      "bidirectional_1 (Bidirection (None, 100, 128)          186880    \n",
      "_________________________________________________________________\n",
      "time_distributed_1 (TimeDist (None, 100, 4)            516       \n",
      "=================================================================\n",
      "Total params: 9,205,096\n",
      "Trainable params: 9,205,096\n",
      "Non-trainable params: 0\n",
      "_________________________________________________________________\n"
     ]
    }
   ],
   "source": [
    "bidirect_model.summary()"
   ]
  },
  {
   "cell_type": "code",
   "execution_count": 82,
   "metadata": {},
   "outputs": [],
   "source": [
    "bidirect_model.compile(loss='categorical_crossentropy',\n",
    "              optimizer='adam',\n",
    "              metrics=['acc'])"
   ]
  },
  {
   "cell_type": "code",
   "execution_count": 83,
   "metadata": {},
   "outputs": [
    {
     "name": "stdout",
     "output_type": "stream",
     "text": [
      "Model: \"sequential_1\"\n",
      "_________________________________________________________________\n",
      "Layer (type)                 Output Shape              Param #   \n",
      "=================================================================\n",
      "embedding_1 (Embedding)      (None, 100, 300)          9017700   \n",
      "_________________________________________________________________\n",
      "bidirectional_1 (Bidirection (None, 100, 128)          186880    \n",
      "_________________________________________________________________\n",
      "time_distributed_1 (TimeDist (None, 100, 4)            516       \n",
      "=================================================================\n",
      "Total params: 9,205,096\n",
      "Trainable params: 9,205,096\n",
      "Non-trainable params: 0\n",
      "_________________________________________________________________\n"
     ]
    }
   ],
   "source": [
    "# check summary of model\n",
    "bidirect_model.summary()"
   ]
  },
  {
   "cell_type": "markdown",
   "metadata": {},
   "source": [
    "## (5.b) Model Training"
   ]
  },
  {
   "cell_type": "code",
   "execution_count": 84,
   "metadata": {},
   "outputs": [
    {
     "name": "stdout",
     "output_type": "stream",
     "text": [
      "Epoch 1/10\n",
      "146/146 [==============================] - 55s 351ms/step - loss: 0.3273 - acc: 0.9548 - val_loss: 0.0177 - val_acc: 0.9963\n",
      "Epoch 2/10\n",
      "146/146 [==============================] - 51s 349ms/step - loss: 0.0163 - acc: 0.9966 - val_loss: 0.0138 - val_acc: 0.9968\n",
      "Epoch 3/10\n",
      "146/146 [==============================] - 52s 358ms/step - loss: 0.0123 - acc: 0.9971 - val_loss: 0.0119 - val_acc: 0.9969\n",
      "Epoch 4/10\n",
      "146/146 [==============================] - 49s 336ms/step - loss: 0.0103 - acc: 0.9973 - val_loss: 0.0110 - val_acc: 0.9970\n",
      "Epoch 5/10\n",
      "146/146 [==============================] - 47s 324ms/step - loss: 0.0088 - acc: 0.9975 - val_loss: 0.0106 - val_acc: 0.9970\n",
      "Epoch 6/10\n",
      "146/146 [==============================] - 47s 320ms/step - loss: 0.0081 - acc: 0.9975 - val_loss: 0.0104 - val_acc: 0.9971\n",
      "Epoch 7/10\n",
      "146/146 [==============================] - 47s 322ms/step - loss: 0.0071 - acc: 0.9977 - val_loss: 0.0105 - val_acc: 0.9970\n",
      "Epoch 8/10\n",
      "146/146 [==============================] - 48s 326ms/step - loss: 0.0061 - acc: 0.9980 - val_loss: 0.0111 - val_acc: 0.9969\n",
      "Epoch 9/10\n",
      "146/146 [==============================] - 47s 318ms/step - loss: 0.0052 - acc: 0.9983 - val_loss: 0.0119 - val_acc: 0.9969\n",
      "Epoch 10/10\n",
      "146/146 [==============================] - 47s 320ms/step - loss: 0.0044 - acc: 0.9985 - val_loss: 0.0125 - val_acc: 0.9965\n"
     ]
    }
   ],
   "source": [
    "bidirect_training = bidirect_model.fit(X_train, Y_train, batch_size=128, epochs=10, validation_data=(X_validation, Y_validation))"
   ]
  },
  {
   "cell_type": "code",
   "execution_count": 85,
   "metadata": {},
   "outputs": [
    {
     "data": {
      "image/png": "[encoded data removed]",
      "text/plain": [
       "<Figure size 432x288 with 1 Axes>"
      ]
     },
     "metadata": {
      "needs_background": "light"
     },
     "output_type": "display_data"
    }
   ],
   "source": [
    "# visualise training history\n",
    "plt.plot(bidirect_training.history['acc'])\n",
    "plt.plot(bidirect_training.history['val_acc'])\n",
    "plt.title('model accuracy')\n",
    "plt.ylabel('accuracy')\n",
    "plt.xlabel('epoch')\n",
    "plt.legend(['train', 'test'], loc=\"lower right\")\n",
    "plt.show()\n"
   ]
  },
  {
   "cell_type": "markdown",
   "metadata": {},
   "source": [
    "## (5.c) Model Evaluation"
   ]
  },
  {
   "cell_type": "code",
   "execution_count": 86,
   "metadata": {},
   "outputs": [
    {
     "name": "stdout",
     "output_type": "stream",
     "text": [
      "103/103 [==============================] - 3s 28ms/step - loss: 0.0125 - acc: 0.9965\n"
     ]
    },
    {
     "data": {
      "text/plain": [
       "[0.012544321827590466, 0.996535062789917]"
      ]
     },
     "execution_count": 86,
     "metadata": {},
     "output_type": "execute_result"
    }
   ],
   "source": [
    "bidirect_model.evaluate(X_validation, Y_validation)"
   ]
  },
  {
   "cell_type": "code",
   "execution_count": 87,
   "metadata": {},
   "outputs": [
    {
     "name": "stdout",
     "output_type": "stream",
     "text": [
      "122/122 [==============================] - 4s 30ms/step - loss: 0.0128 - acc: 0.9965\n"
     ]
    },
    {
     "data": {
      "text/plain": [
       "[0.01276367250829935, 0.9965307116508484]"
      ]
     },
     "execution_count": 87,
     "metadata": {},
     "output_type": "execute_result"
    }
   ],
   "source": [
    "bidirect_model.evaluate(X_test, Y_test)"
   ]
  },
  {
   "cell_type": "markdown",
   "metadata": {},
   "source": [
    "## 6. Model Perfomance of held out Test dataset"
   ]
  },
  {
   "cell_type": "code",
   "execution_count": 106,
   "metadata": {},
   "outputs": [],
   "source": [
    "test = read_conllu('noun-verb/test.conll')"
   ]
  },
  {
   "cell_type": "code",
   "execution_count": 107,
   "metadata": {},
   "outputs": [],
   "source": [
    "X_val = [] # store input sequence\n",
    "Y_val = [] # store output sequence\n",
    "\n",
    "for sentence in test:\n",
    "    X_sentence = []\n",
    "    Y_sentence = []\n",
    "    for entity in sentence:         \n",
    "        X_sentence.append(entity[0])  # entity[0] contains the word\n",
    "        Y_sentence.append(entity[1])  # entity[1] contains corresponding tag\n",
    "        \n",
    "    X_val.append(X_sentence)\n",
    "    Y_val.append(Y_sentence)"
   ]
  },
  {
   "cell_type": "code",
   "execution_count": 108,
   "metadata": {},
   "outputs": [],
   "source": [
    "X_val_encoded = word_tokenizer.texts_to_sequences(X_val) \n",
    "Y_val_encoded = tag_tokenizer.texts_to_sequences(Y_val)"
   ]
  },
  {
   "cell_type": "code",
   "execution_count": 109,
   "metadata": {},
   "outputs": [],
   "source": [
    "MAX_SEQ_LENGTH = 100 # sequences greater than 100 in length will be truncated\n",
    "\n",
    "X_val_padded = pad_sequences(X_val_encoded, maxlen=MAX_SEQ_LENGTH, padding=\"pre\", truncating=\"post\")\n",
    "Y_val_padded = pad_sequences(Y_val_encoded, maxlen=MAX_SEQ_LENGTH, padding=\"pre\", truncating=\"post\")"
   ]
  },
  {
   "cell_type": "code",
   "execution_count": 110,
   "metadata": {},
   "outputs": [],
   "source": [
    "X_val, Y_val = X_val_padded, Y_val_padded"
   ]
  },
  {
   "cell_type": "code",
   "execution_count": 111,
   "metadata": {},
   "outputs": [],
   "source": [
    "Y_val = to_categorical(Y_val)"
   ]
  },
  {
   "cell_type": "code",
   "execution_count": 112,
   "metadata": {},
   "outputs": [
    {
     "name": "stdout",
     "output_type": "stream",
     "text": [
      "185/185 [==============================] - 6s 30ms/step - loss: 0.0771 - acc: 0.9871\n"
     ]
    },
    {
     "data": {
      "text/plain": [
       "[0.07708165794610977, 0.9870611429214478]"
      ]
     },
     "execution_count": 112,
     "metadata": {},
     "output_type": "execute_result"
    }
   ],
   "source": [
    "bidirect_model.evaluate(X_val, Y_val)"
   ]
  },
  {
   "cell_type": "code",
   "execution_count": null,
   "metadata": {},
   "outputs": [],
   "source": []
  }
 ],
 "metadata": {
  "kernelspec": {
   "display_name": "Python 3",
   "language": "python",
   "name": "python3"
  },
  "language_info": {
   "codemirror_mode": {
    "name": "ipython",
    "version": 3
   },
   "file_extension": ".py",
   "mimetype": "text/x-python",
   "name": "python",
   "nbconvert_exporter": "python",
   "pygments_lexer": "ipython3",
   "version": "3.8.6"
  }
 },
 "nbformat": 4,
 "nbformat_minor": 4
}
