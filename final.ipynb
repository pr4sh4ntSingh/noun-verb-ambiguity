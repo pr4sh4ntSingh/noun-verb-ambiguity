{
 "cells": [
  {
   "cell_type": "code",
   "execution_count": 1,
   "metadata": {},
   "outputs": [
    {
     "name": "stderr",
     "output_type": "stream",
     "text": [
      "/opt/conda/lib/python3.8/site-packages/gensim/similarities/__init__.py:15: UserWarning: The gensim.similarities.levenshtein submodule is disabled, because the optional Levenshtein package <https://pypi.org/project/python-Levenshtein/> is unavailable. Install Levenhstein (e.g. `pip install python-Levenshtein`) to suppress this warning.\n",
      "  warnings.warn(msg)\n"
     ]
    }
   ],
   "source": [
    "from matplotlib import pyplot as plt\n",
    "\n",
    "from nltk.corpus import brown\n",
    "from nltk.corpus import treebank\n",
    "from nltk.corpus import conll2000\n",
    "\n",
    "import seaborn as sns\n",
    "\n",
    "from gensim.models import KeyedVectors\n",
    "\n",
    "from keras.preprocessing.sequence import pad_sequences\n",
    "from keras.utils.np_utils import to_categorical\n",
    "from keras.models import Sequential\n",
    "from keras.layers import Embedding\n",
    "from keras.layers import Dense, Input\n",
    "from keras.layers import TimeDistributed\n",
    "from keras.layers import LSTM, GRU, Bidirectional, SimpleRNN, RNN\n",
    "from keras.models import Model\n",
    "from keras.preprocessing.text import Tokenizer\n",
    "\n",
    "from sklearn.model_selection import train_test_split\n",
    "from sklearn.utils import shuffle"
   ]
  },
  {
   "cell_type": "code",
   "execution_count": null,
   "metadata": {},
   "outputs": [],
   "source": []
  },
  {
   "cell_type": "code",
   "execution_count": 3,
   "metadata": {},
   "outputs": [
    {
     "name": "stdout",
     "output_type": "stream",
     "text": [
      "Looking in indexes: http://dgi-dt-lgsapp01.dev.msci.org:11000/repository/python-otw/simple\n",
      "Collecting pyconll\n",
      "  Downloading http://dgi-dt-lgsapp01.dev.msci.org:11000/repository/python-otw/packages/60/7f/148a5b6f99b8a22373bfbcafd9d6776278fec14810ae95c4fe37965f6619/pyconll-3.0.4-py3-none-any.whl (26 kB)\n",
      "Installing collected packages: pyconll\n",
      "Successfully installed pyconll-3.0.4\n"
     ]
    }
   ],
   "source": [
    "!pip install pyconll"
   ]
  },
  {
   "cell_type": "code",
   "execution_count": 4,
   "metadata": {},
   "outputs": [],
   "source": [
    "from numpy.random import seed\n",
    "seed(1)\n",
    "#from tensorflow import set_random_seed\n",
    "#set_random_seed(2)\n",
    "import pyconll, keras, pickle, os, random, nltk, datetime, warnings, gc, urllib.request, zipfile, collections\n",
    "import numpy as np\n",
    "import matplotlib.pyplot as plt\n",
    "from sklearn.utils import shuffle\n",
    "from sklearn.metrics import recall_score, precision_score, classification_report, accuracy_score, confusion_matrix, f1_score\n",
    "from sklearn.metrics.classification import UndefinedMetricWarning\n",
    "\n",
    "from keras.models import Sequential, Model\n",
    "from keras.layers import Embedding, Dense, Input, concatenate, Layer, Lambda, Dropout, Activation\n",
    "from keras.callbacks import ModelCheckpoint, EarlyStopping, Callback, TensorBoard\n",
    "from keras import backend as K\n",
    "from keras.models import load_model\n",
    "from keras.utils import plot_model\n",
    "from keras.utils.np_utils import to_categorical\n",
    "import tensorflow as tf\n",
    "#import tensorflow_hub as hub\n",
    "import numpy as np\n",
    "#import tensorflow_text\n",
    "import warnings\n",
    "from tqdm import tqdm_notebook\n",
    "from IPython.display import Image \n",
    "#warnings.filterwarnings(action='ignore', category=UndefinedMetricWarning)\n",
    "#from bert.tokenization import FullTokenizer\n",
    "\n"
   ]
  },
  {
   "cell_type": "code",
   "execution_count": 5,
   "metadata": {},
   "outputs": [],
   "source": [
    "path = 'noun-verb/dev.conll'\n",
    "data = pyconll.load_from_file(path)"
   ]
  },
  {
   "cell_type": "code",
   "execution_count": 6,
   "metadata": {},
   "outputs": [
    {
     "data": {
      "text/plain": [
       "'Once'"
      ]
     },
     "execution_count": 6,
     "metadata": {},
     "output_type": "execute_result"
    }
   ],
   "source": [
    "data[0][0].form"
   ]
  },
  {
   "cell_type": "code",
   "execution_count": 7,
   "metadata": {},
   "outputs": [],
   "source": [
    "\n",
    "def read_conllu(path):\n",
    "    data = pyconll.load_from_file(path)\n",
    "    tagged_sentences=[]\n",
    "    t=0\n",
    "    for sentence in data:\n",
    "        tagged_sentence=[]\n",
    "        for token in sentence:\n",
    "            if token.upos=='NN':\n",
    "                tagged_sentence.append((token.form.lower(), str(token.upos)))\n",
    "            elif token.upos=='VERB':\n",
    "                tagged_sentence.append((token.form.lower(), str(token.upos)))\n",
    "            else:\n",
    "                tagged_sentence.append((token.form.lower(), 'None'))\n",
    "        tagged_sentences.append(tagged_sentence)\n",
    "    return tagged_sentences\n",
    "                                   \n",
    "dev = read_conllu('noun-verb/dev.conll')\n"
   ]
  },
  {
   "cell_type": "code",
   "execution_count": 9,
   "metadata": {},
   "outputs": [
    {
     "data": {
      "text/plain": [
       "[[('once', 'None'),\n",
       "  ('you', 'None'),\n",
       "  ('have', 'None'),\n",
       "  ('the', 'None'),\n",
       "  ('new', 'None'),\n",
       "  ('glass', 'None'),\n",
       "  (',', 'None'),\n",
       "  ('cleaning', 'VERB'),\n",
       "  ('and', 'None'),\n",
       "  ('replacing', 'None'),\n",
       "  ('it', 'None'),\n",
       "  ('is', 'None'),\n",
       "  ('all', 'None'),\n",
       "  ('that', 'None'),\n",
       "  (\"'s\", 'None'),\n",
       "  ('left', 'None'),\n",
       "  ('.', 'None')],\n",
       " [('the', 'None'),\n",
       "  ('catchment', 'None'),\n",
       "  ('is', 'None'),\n",
       "  ('situated', 'None'),\n",
       "  ('on', 'None'),\n",
       "  ('sandstone', 'None'),\n",
       "  ('which', 'None'),\n",
       "  ('has', 'None'),\n",
       "  ('a', 'None'),\n",
       "  ('low', 'None'),\n",
       "  ('rate', 'None'),\n",
       "  ('of', 'None'),\n",
       "  ('weathering', 'VERB'),\n",
       "  ('.', 'None')]]"
      ]
     },
     "execution_count": 9,
     "metadata": {},
     "output_type": "execute_result"
    }
   ],
   "source": [
    "dev[:2]"
   ]
  },
  {
   "cell_type": "code",
   "execution_count": 10,
   "metadata": {},
   "outputs": [],
   "source": [
    "train = read_conllu('noun-verb/train.conll')\n",
    "test = read_conllu('noun-verb/test.conll')"
   ]
  },
  {
   "cell_type": "code",
   "execution_count": 11,
   "metadata": {},
   "outputs": [
    {
     "data": {
      "text/plain": [
       "[[('license', 'NN'),\n",
       "  ('plates', 'None'),\n",
       "  ('of', 'None'),\n",
       "  ('cars', 'None'),\n",
       "  ('from', 'None'),\n",
       "  ('your', 'None'),\n",
       "  ('area', 'None'),\n",
       "  ('or', 'None'),\n",
       "  ('your', 'None'),\n",
       "  ('destination', 'None'),\n",
       "  ('.', 'None')],\n",
       " [('two', 'None'),\n",
       "  ('early', 'None'),\n",
       "  ('seahawk', 'None'),\n",
       "  ('miscues', 'None'),\n",
       "  ('enabled', 'None'),\n",
       "  ('the', 'None'),\n",
       "  ('saints', 'None'),\n",
       "  ('to', 'None'),\n",
       "  ('build', 'None'),\n",
       "  ('a', 'None'),\n",
       "  ('10-point', 'None'),\n",
       "  ('lead', 'None'),\n",
       "  ('.', 'None')],\n",
       " [('we', 'None'),\n",
       "  ('also', 'None'),\n",
       "  ('find', 'None'),\n",
       "  ('out', 'None'),\n",
       "  ('the', 'None'),\n",
       "  ('real', 'None'),\n",
       "  ('reason', 'None'),\n",
       "  ('for', 'None'),\n",
       "  ('phil', 'None'),\n",
       "  ('being', 'None'),\n",
       "  ('late', 'None'),\n",
       "  ('this', 'None'),\n",
       "  ('morning', 'None'),\n",
       "  (':', 'None'),\n",
       "  ('he', 'None'),\n",
       "  ('was', 'None'),\n",
       "  ('presenting', 'None'),\n",
       "  ('his', 'None'),\n",
       "  ('portfolio', 'None'),\n",
       "  ('at', 'None'),\n",
       "  ('the', 'None'),\n",
       "  ('glasgow', 'None'),\n",
       "  ('school', 'None'),\n",
       "  ('of', 'None'),\n",
       "  ('art.', 'None'),\n",
       "  ('he', 'None'),\n",
       "  ('is', 'None'),\n",
       "  ('now', 'None'),\n",
       "  ('waiting', 'None'),\n",
       "  ('on', 'None'),\n",
       "  ('a', 'None'),\n",
       "  ('phone', 'None'),\n",
       "  ('call', 'None'),\n",
       "  ('that', 'None'),\n",
       "  ('will', 'None'),\n",
       "  ('tell', 'None'),\n",
       "  ('him', 'None'),\n",
       "  ('how', 'None'),\n",
       "  ('he', 'None'),\n",
       "  ('got', 'None'),\n",
       "  ('on', 'None'),\n",
       "  ('.', 'None')]]"
      ]
     },
     "execution_count": 11,
     "metadata": {},
     "output_type": "execute_result"
    }
   ],
   "source": [
    "train[:3]"
   ]
  },
  {
   "cell_type": "code",
   "execution_count": 12,
   "metadata": {},
   "outputs": [
    {
     "data": {
      "text/plain": [
       "[[('retail', 'None'),\n",
       "  ('goods', 'None'),\n",
       "  ('were', 'None'),\n",
       "  ('seldom', 'None'),\n",
       "  ('sold', 'None'),\n",
       "  ('with', 'None'),\n",
       "  ('shipping', 'None'),\n",
       "  ('any', 'None'),\n",
       "  ('faster', 'None'),\n",
       "  ('than', 'None'),\n",
       "  ('overnight', 'None'),\n",
       "  ('.', 'None')],\n",
       " [('if', 'None'),\n",
       "  ('you', 'None'),\n",
       "  (\"'ve\", 'None'),\n",
       "  ('changed', 'None'),\n",
       "  ('this', 'None'),\n",
       "  (',', 'None'),\n",
       "  ('press', 'VERB'),\n",
       "  ('``', 'None'),\n",
       "  ('preview', 'None'),\n",
       "  (\"''\", 'None'),\n",
       "  ('to', 'None'),\n",
       "  ('update', 'None'),\n",
       "  ('this', 'None'),\n",
       "  ('message', 'None'),\n",
       "  ('.', 'None')],\n",
       " [('and', 'None'),\n",
       "  ('the', 'None'),\n",
       "  ('table', 'None'),\n",
       "  ('must', 'None'),\n",
       "  ('contain', 'None'),\n",
       "  ('both', 'None'),\n",
       "  ('the', 'None'),\n",
       "  ('amount', 'None'),\n",
       "  ('of', 'None'),\n",
       "  ('that', 'None'),\n",
       "  ('nutrient', 'None'),\n",
       "  ('per', 'None'),\n",
       "  ('serving', 'None'),\n",
       "  ('and', 'None'),\n",
       "  ('the', 'None'),\n",
       "  ('%', 'None'),\n",
       "  ('that', 'None'),\n",
       "  ('nutrient', 'None'),\n",
       "  ('represents', 'None'),\n",
       "  ('as', 'None'),\n",
       "  ('compared', 'None'),\n",
       "  ('to', 'None'),\n",
       "  ('recommended', 'None'),\n",
       "  ('daily', 'None'),\n",
       "  ('values', 'None'),\n",
       "  ('(', 'None'),\n",
       "  ('rdvs', 'None'),\n",
       "  (')', 'None'),\n",
       "  ('.', 'None')]]"
      ]
     },
     "execution_count": 12,
     "metadata": {},
     "output_type": "execute_result"
    }
   ],
   "source": [
    "test[:3]"
   ]
  },
  {
   "cell_type": "code",
   "execution_count": 13,
   "metadata": {},
   "outputs": [],
   "source": [
    "# treebank_corpus = treebank.tagged_sents(tagset='universal')\n",
    "# brown_corpus = brown.tagged_sents(tagset='universal')\n",
    "# conll_corpus = conll2000.tagged_sents(tagset='universal')\n",
    "# tagged_sentences = treebank_corpus + brown_corpus + conll_corpus"
   ]
  },
  {
   "cell_type": "code",
   "execution_count": 13,
   "metadata": {},
   "outputs": [],
   "source": [
    "tagged_sentences = train+dev"
   ]
  },
  {
   "cell_type": "code",
   "execution_count": 14,
   "metadata": {},
   "outputs": [
    {
     "data": {
      "text/plain": [
       "[('some', 'None'),\n",
       " ('proponents', 'None'),\n",
       " ('of', 'None'),\n",
       " ('strong', 'None'),\n",
       " ('ai', 'None'),\n",
       " ('speculated', 'None'),\n",
       " ('that', 'None'),\n",
       " ('computers', 'None'),\n",
       " ('in', 'None'),\n",
       " ('connection', 'None'),\n",
       " ('with', 'None'),\n",
       " ('blue', 'None'),\n",
       " ('brain', 'None'),\n",
       " ('and', 'None'),\n",
       " ('soul', 'None'),\n",
       " ('catcher', 'None'),\n",
       " ('may', 'None'),\n",
       " ('exceed', 'None'),\n",
       " ('human', 'None'),\n",
       " ('intellectual', 'None'),\n",
       " ('capacity', 'None'),\n",
       " ('by', 'None'),\n",
       " ('around', 'None'),\n",
       " ('2015', 'None'),\n",
       " (',', 'None'),\n",
       " ('and', 'None'),\n",
       " ('that', 'None'),\n",
       " ('it', 'None'),\n",
       " ('is', 'None'),\n",
       " ('likely', 'None'),\n",
       " ('that', 'None'),\n",
       " ('we', 'None'),\n",
       " ('will', 'None'),\n",
       " ('be', 'None'),\n",
       " ('able', 'None'),\n",
       " ('to', 'None'),\n",
       " ('download', 'None'),\n",
       " ('the', 'None'),\n",
       " ('human', 'None'),\n",
       " ('brain', 'None'),\n",
       " ('at', 'None'),\n",
       " ('some', 'None'),\n",
       " ('time', 'None'),\n",
       " ('around', 'None'),\n",
       " ('2050', 'None'),\n",
       " ('.', 'None')]"
      ]
     },
     "execution_count": 14,
     "metadata": {},
     "output_type": "execute_result"
    }
   ],
   "source": [
    "tagged_sentences[7]"
   ]
  },
  {
   "cell_type": "code",
   "execution_count": 15,
   "metadata": {},
   "outputs": [
    {
     "data": {
      "text/plain": [
       "[('some', 'None'),\n",
       " ('proponents', 'None'),\n",
       " ('of', 'None'),\n",
       " ('strong', 'None'),\n",
       " ('ai', 'None'),\n",
       " ('speculated', 'None'),\n",
       " ('that', 'None'),\n",
       " ('computers', 'None'),\n",
       " ('in', 'None'),\n",
       " ('connection', 'None'),\n",
       " ('with', 'None'),\n",
       " ('blue', 'None'),\n",
       " ('brain', 'None'),\n",
       " ('and', 'None'),\n",
       " ('soul', 'None'),\n",
       " ('catcher', 'None'),\n",
       " ('may', 'None'),\n",
       " ('exceed', 'None'),\n",
       " ('human', 'None'),\n",
       " ('intellectual', 'None'),\n",
       " ('capacity', 'None'),\n",
       " ('by', 'None'),\n",
       " ('around', 'None'),\n",
       " ('2015', 'None'),\n",
       " (',', 'None'),\n",
       " ('and', 'None'),\n",
       " ('that', 'None'),\n",
       " ('it', 'None'),\n",
       " ('is', 'None'),\n",
       " ('likely', 'None'),\n",
       " ('that', 'None'),\n",
       " ('we', 'None'),\n",
       " ('will', 'None'),\n",
       " ('be', 'None'),\n",
       " ('able', 'None'),\n",
       " ('to', 'None'),\n",
       " ('download', 'None'),\n",
       " ('the', 'None'),\n",
       " ('human', 'None'),\n",
       " ('brain', 'None'),\n",
       " ('at', 'None'),\n",
       " ('some', 'None'),\n",
       " ('time', 'None'),\n",
       " ('around', 'None'),\n",
       " ('2050', 'None'),\n",
       " ('.', 'None')]"
      ]
     },
     "execution_count": 15,
     "metadata": {},
     "output_type": "execute_result"
    }
   ],
   "source": [
    "tagged_sentences[7]"
   ]
  },
  {
   "cell_type": "code",
   "execution_count": 16,
   "metadata": {},
   "outputs": [],
   "source": [
    "X = [] # store input sequence\n",
    "Y = [] # store output sequence\n",
    "\n",
    "for sentence in tagged_sentences:\n",
    "    X_sentence = []\n",
    "    Y_sentence = []\n",
    "    for entity in sentence:         \n",
    "        X_sentence.append(entity[0])  # entity[0] contains the word\n",
    "        Y_sentence.append(entity[1])  # entity[1] contains corresponding tag\n",
    "        \n",
    "    X.append(X_sentence)\n",
    "    Y.append(Y_sentence)"
   ]
  },
  {
   "cell_type": "code",
   "execution_count": 17,
   "metadata": {},
   "outputs": [],
   "source": [
    "num_words = len(set([word.lower() for sentence in X for word in sentence]))\n",
    "num_tags   = len(set([word.lower() for sentence in Y for word in sentence]))"
   ]
  },
  {
   "cell_type": "code",
   "execution_count": 18,
   "metadata": {},
   "outputs": [
    {
     "data": {
      "text/plain": [
       "{'nn', 'none', 'verb'}"
      ]
     },
     "execution_count": 18,
     "metadata": {},
     "output_type": "execute_result"
    }
   ],
   "source": [
    "(set([word.lower() for sentence in Y for word in sentence]))"
   ]
  },
  {
   "cell_type": "code",
   "execution_count": 19,
   "metadata": {},
   "outputs": [
    {
     "name": "stdout",
     "output_type": "stream",
     "text": [
      "Total number of tagged sentences: 25825\n",
      "Vocabulary size: 30058\n",
      "Total number of tags: 3\n"
     ]
    }
   ],
   "source": [
    "print(\"Total number of tagged sentences: {}\".format(len(X)))\n",
    "print(\"Vocabulary size: {}\".format(num_words))\n",
    "print(\"Total number of tags: {}\".format(num_tags))"
   ]
  },
  {
   "cell_type": "code",
   "execution_count": 20,
   "metadata": {},
   "outputs": [
    {
     "name": "stdout",
     "output_type": "stream",
     "text": [
      "sample X:  ['license', 'plates', 'of', 'cars', 'from', 'your', 'area', 'or', 'your', 'destination', '.'] \n",
      "\n",
      "sample Y:  ['NN', 'None', 'None', 'None', 'None', 'None', 'None', 'None', 'None', 'None', 'None'] \n",
      "\n"
     ]
    }
   ],
   "source": [
    "# let's look at first data point\n",
    "# this is one data point that will be fed to the RNN\n",
    "print('sample X: ', X[0], '\\n')\n",
    "print('sample Y: ', Y[0], '\\n')"
   ]
  },
  {
   "cell_type": "code",
   "execution_count": 21,
   "metadata": {},
   "outputs": [
    {
     "name": "stdout",
     "output_type": "stream",
     "text": [
      "Length of first input sequence  : 11\n",
      "Length of first output sequence : 11\n"
     ]
    }
   ],
   "source": [
    "print(\"Length of first input sequence  : {}\".format(len(X[0])))\n",
    "print(\"Length of first output sequence : {}\".format(len(Y[0])))"
   ]
  },
  {
   "cell_type": "code",
   "execution_count": 22,
   "metadata": {},
   "outputs": [],
   "source": [
    "# encode X\n",
    "\n",
    "word_tokenizer = Tokenizer()                      # instantiate tokeniser\n",
    "word_tokenizer.fit_on_texts(X)                    # fit tokeniser on data\n",
    "X_encoded = word_tokenizer.texts_to_sequences(X)  # use the tokeniser to encode input sequence"
   ]
  },
  {
   "cell_type": "code",
   "execution_count": 23,
   "metadata": {},
   "outputs": [],
   "source": [
    "# encode Y\n",
    "\n",
    "tag_tokenizer = Tokenizer()\n",
    "tag_tokenizer.fit_on_texts(Y)\n",
    "Y_encoded = tag_tokenizer.texts_to_sequences(Y)"
   ]
  },
  {
   "cell_type": "code",
   "execution_count": 24,
   "metadata": {},
   "outputs": [
    {
     "name": "stdout",
     "output_type": "stream",
     "text": [
      "** Raw data point ** \n",
      " ---------------------------------------------------------------------------------------------------- \n",
      "\n",
      "X:  ['license', 'plates', 'of', 'cars', 'from', 'your', 'area', 'or', 'your', 'destination', '.'] \n",
      "\n",
      "Y:  ['NN', 'None', 'None', 'None', 'None', 'None', 'None', 'None', 'None', 'None', 'None'] \n",
      "\n",
      "\n",
      "** Encoded data point ** \n",
      " ---------------------------------------------------------------------------------------------------- \n",
      "\n",
      "X:  [2698, 4986, 6, 1359, 20, 11, 204, 15, 11, 4196, 1] \n",
      "\n",
      "Y:  [2, 1, 1, 1, 1, 1, 1, 1, 1, 1, 1] \n",
      "\n"
     ]
    }
   ],
   "source": [
    "# look at first encoded data point\n",
    "\n",
    "print(\"** Raw data point **\", \"\\n\", \"-\"*100, \"\\n\")\n",
    "print('X: ', X[0], '\\n')\n",
    "print('Y: ', Y[0], '\\n')\n",
    "print()\n",
    "print(\"** Encoded data point **\", \"\\n\", \"-\"*100, \"\\n\")\n",
    "print('X: ', X_encoded[0], '\\n')\n",
    "print('Y: ', Y_encoded[0], '\\n')"
   ]
  },
  {
   "cell_type": "code",
   "execution_count": 25,
   "metadata": {},
   "outputs": [
    {
     "name": "stdout",
     "output_type": "stream",
     "text": [
      "0 sentences have disparate input-output lengths.\n"
     ]
    }
   ],
   "source": [
    "\n",
    "different_length = [1 if len(input) != len(output) else 0 for input, output in zip(X_encoded, Y_encoded)]\n",
    "print(\"{} sentences have disparate input-output lengths.\".format(sum(different_length)))"
   ]
  },
  {
   "cell_type": "code",
   "execution_count": 26,
   "metadata": {},
   "outputs": [
    {
     "name": "stdout",
     "output_type": "stream",
     "text": [
      "Length of longest sentence: 157\n"
     ]
    }
   ],
   "source": [
    "# check length of longest sentence\n",
    "lengths = [len(seq) for seq in X_encoded]\n",
    "print(\"Length of longest sentence: {}\".format(max(lengths)))"
   ]
  },
  {
   "cell_type": "code",
   "execution_count": 27,
   "metadata": {},
   "outputs": [
    {
     "name": "stderr",
     "output_type": "stream",
     "text": [
      "/opt/conda/lib/python3.8/site-packages/seaborn/_decorators.py:36: FutureWarning: Pass the following variable as a keyword arg: x. From version 0.12, the only valid positional argument will be `data`, and passing other arguments without an explicit keyword will result in an error or misinterpretation.\n",
      "  warnings.warn(\n"
     ]
    },
    {
     "data": {
      "image/png": "[encoded data removed]",
      "text/plain": [
       "<Figure size 432x288 with 1 Axes>"
      ]
     },
     "metadata": {
      "needs_background": "light"
     },
     "output_type": "display_data"
    }
   ],
   "source": [
    "sns.boxplot(lengths)\n",
    "plt.show()"
   ]
  },
  {
   "cell_type": "code",
   "execution_count": 112,
   "metadata": {},
   "outputs": [],
   "source": [
    "# Pad each sequence to MAX_SEQ_LENGTH using KERAS' pad_sequences() function. \n",
    "# Sentences longer than MAX_SEQ_LENGTH are truncated.\n",
    "# Sentences shorter than MAX_SEQ_LENGTH are padded with zeroes.\n",
    "\n",
    "# Truncation and padding can either be 'pre' or 'post'. \n",
    "# For padding we are using 'pre' padding type, that is, add zeroes on the left side.\n",
    "# For truncation, we are using 'post', that is, truncate a sentence from right side.\n",
    "\n",
    "MAX_SEQ_LENGTH = 40  # sequences greater than 100 in length will be truncated\n",
    "\n",
    "X_padded = pad_sequences(X_encoded, maxlen=MAX_SEQ_LENGTH, padding=\"pre\", truncating=\"post\")\n",
    "Y_padded = pad_sequences(Y_encoded, maxlen=MAX_SEQ_LENGTH, padding=\"pre\", truncating=\"post\")"
   ]
  },
  {
   "cell_type": "code",
   "execution_count": 113,
   "metadata": {},
   "outputs": [
    {
     "name": "stdout",
     "output_type": "stream",
     "text": [
      "[   0    0    0    0    0    0    0    0    0    0    0    0    0    0\n",
      "    0    0    0    0    0    0    0    0    0    0    0    0    0    0\n",
      "    0 2698 4986    6 1359   20   11  204   15   11 4196    1] \n",
      "\n",
      "\n",
      "\n",
      "[0 0 0 0 0 0 0 0 0 0 0 0 0 0 0 0 0 0 0 0 0 0 0 0 0 0 0 0 0 2 1 1 1 1 1 1 1\n",
      " 1 1 1]\n"
     ]
    }
   ],
   "source": [
    "# print the first sequence\n",
    "print(X_padded[0], \"\\n\"*3)\n",
    "print(Y_padded[0])"
   ]
  },
  {
   "cell_type": "code",
   "execution_count": 114,
   "metadata": {},
   "outputs": [],
   "source": [
    "# assign padded sequences to X and Y\n",
    "X, Y = X_padded, Y_padded"
   ]
  },
  {
   "cell_type": "code",
   "execution_count": 115,
   "metadata": {},
   "outputs": [
    {
     "data": {
      "text/plain": [
       "40"
      ]
     },
     "execution_count": 115,
     "metadata": {},
     "output_type": "execute_result"
    }
   ],
   "source": [
    "len(Y[0])"
   ]
  },
  {
   "cell_type": "code",
   "execution_count": 116,
   "metadata": {},
   "outputs": [],
   "source": [
    "#! wget -c \"https://s3.amazonaws.com/dl4j-distribution/GoogleNews-vectors-negative300.bin.gz\""
   ]
  },
  {
   "cell_type": "code",
   "execution_count": 117,
   "metadata": {},
   "outputs": [],
   "source": [
    "#! gunzip  GoogleNews-vectors-negative300.bin.gz \n"
   ]
  },
  {
   "cell_type": "code",
   "execution_count": 32,
   "metadata": {},
   "outputs": [],
   "source": [
    "# word2vec\n",
    "\n",
    "path = './GoogleNews-vectors-negative300.bin'\n",
    "\n",
    "\n",
    "# load word2vec using the following function present in the gensim library\n",
    "word2vec = KeyedVectors.load_word2vec_format(path, binary=True)"
   ]
  },
  {
   "cell_type": "code",
   "execution_count": null,
   "metadata": {},
   "outputs": [],
   "source": [
    "# word2vec effectiveness\n",
    "#word2vec.most_similar(positive = [\"King\", \"Woman\"], negative = [\"Man\"])"
   ]
  },
  {
   "cell_type": "code",
   "execution_count": 118,
   "metadata": {},
   "outputs": [],
   "source": [
    "# assign word vectors from word2vec model\n",
    "import numpy as np\n",
    "EMBEDDING_SIZE  = 300  # each word in word2vec model is represented using a 300 dimensional vector\n",
    "VOCABULARY_SIZE = len(word_tokenizer.word_index) + 1\n",
    "\n",
    "# create an empty embedding matix\n",
    "embedding_weights = np.zeros((VOCABULARY_SIZE, EMBEDDING_SIZE))\n",
    "\n",
    "# create a word to index dictionary mapping\n",
    "word2id = word_tokenizer.word_index\n",
    "\n",
    "# copy vectors from word2vec model to the words present in corpus\n",
    "for word, index in word2id.items():\n",
    "    try:\n",
    "        embedding_weights[index, :] = word2vec[word]\n",
    "    except KeyError:\n",
    "        pass"
   ]
  },
  {
   "cell_type": "code",
   "execution_count": 119,
   "metadata": {},
   "outputs": [
    {
     "name": "stdout",
     "output_type": "stream",
     "text": [
      "Embeddings shape: (30059, 300)\n"
     ]
    }
   ],
   "source": [
    "\n",
    "print(\"Embeddings shape: {}\".format(embedding_weights.shape))"
   ]
  },
  {
   "cell_type": "code",
   "execution_count": 120,
   "metadata": {},
   "outputs": [
    {
     "data": {
      "text/plain": [
       "array([ 0.4453125 , -0.20019531,  0.20019531, -0.03149414,  0.078125  ,\n",
       "       -0.390625  ,  0.13671875, -0.13867188,  0.05395508,  0.10546875,\n",
       "       -0.05029297, -0.23730469,  0.19921875,  0.12597656, -0.12695312,\n",
       "        0.34179688,  0.06347656,  0.26757812, -0.07324219, -0.29101562,\n",
       "        0.10498047,  0.11914062,  0.23730469,  0.00640869,  0.12451172,\n",
       "       -0.00939941, -0.02770996,  0.03076172,  0.07421875, -0.22851562,\n",
       "       -0.08056641, -0.05273438,  0.16894531,  0.19824219, -0.15625   ,\n",
       "       -0.08740234,  0.10742188, -0.07177734,  0.05200195,  0.25976562,\n",
       "        0.171875  , -0.13574219,  0.06738281,  0.00531006,  0.15527344,\n",
       "       -0.03515625,  0.08789062,  0.3359375 , -0.12890625,  0.17578125,\n",
       "       -0.08642578,  0.32421875, -0.09033203,  0.35351562,  0.24316406,\n",
       "       -0.07470703, -0.06640625, -0.17578125,  0.06689453, -0.03833008,\n",
       "        0.0100708 , -0.21484375, -0.03686523,  0.04394531,  0.02209473,\n",
       "        0.00219727, -0.22460938,  0.03015137, -0.21582031,  0.16015625,\n",
       "        0.23339844, -0.16699219, -0.09228516,  0.10644531,  0.19335938,\n",
       "       -0.26757812,  0.15722656, -0.08691406,  0.11181641,  0.14941406,\n",
       "       -0.20507812,  0.04882812, -0.07519531, -0.21582031, -0.10107422,\n",
       "       -0.13378906, -0.06103516,  0.05444336,  0.07470703,  0.09521484,\n",
       "       -0.0144043 ,  0.27929688, -0.25585938, -0.05273438, -0.22460938,\n",
       "        0.10253906, -0.15136719,  0.21289062, -0.04711914, -0.12109375,\n",
       "        0.04663086,  0.25976562,  0.13574219,  0.00799561,  0.02001953,\n",
       "        0.1796875 ,  0.30664062,  0.06152344,  0.13574219, -0.09619141,\n",
       "       -0.07421875,  0.38671875,  0.20800781,  0.12695312,  0.05200195,\n",
       "        0.17675781, -0.16796875, -0.19335938, -0.06152344, -0.07568359,\n",
       "       -0.18457031,  0.06030273, -0.15136719, -0.1953125 , -0.23339844,\n",
       "        0.00738525, -0.02478027, -0.09765625, -0.06054688,  0.20214844,\n",
       "       -0.2734375 ,  0.00595093, -0.34570312, -0.12988281,  0.00418091,\n",
       "        0.09960938,  0.0246582 ,  0.15917969, -0.02038574,  0.30273438,\n",
       "       -0.20800781, -0.20214844, -0.03930664, -0.06494141,  0.00436401,\n",
       "       -0.02270508, -0.171875  ,  0.30273438, -0.16113281, -0.49414062,\n",
       "        0.3515625 ,  0.39257812,  0.09814453,  0.41796875,  0.05371094,\n",
       "        0.02392578, -0.03710938, -0.08251953, -0.38671875, -0.40625   ,\n",
       "       -0.05664062,  0.203125  , -0.01782227,  0.3359375 ,  0.19140625,\n",
       "       -0.44335938,  0.00927734,  0.24804688, -0.05102539,  0.19726562,\n",
       "        0.03881836,  0.03442383, -0.40039062, -0.09912109, -0.07128906,\n",
       "        0.21484375, -0.01422119,  0.04907227, -0.07421875, -0.21582031,\n",
       "       -0.41992188,  0.02172852,  0.11083984, -0.33398438, -0.2734375 ,\n",
       "       -0.05322266, -0.16601562, -0.28515625, -0.12207031,  0.04882812,\n",
       "       -0.0625    , -0.04077148, -0.16503906,  0.0480957 , -0.21191406,\n",
       "        0.20019531, -0.2109375 ,  0.10839844, -0.14648438, -0.07958984,\n",
       "       -0.05151367, -0.16601562, -0.24902344, -0.375     ,  0.05664062,\n",
       "       -0.13671875, -0.2578125 ,  0.28515625, -0.04736328,  0.13574219,\n",
       "       -0.14550781,  0.19433594, -0.21972656,  0.08447266, -0.10791016,\n",
       "       -0.11816406, -0.16015625,  0.12060547, -0.10888672,  0.04345703,\n",
       "        0.11474609, -0.08447266, -0.00720215,  0.03662109, -0.38671875,\n",
       "       -0.03881836, -0.03198242,  0.00344849,  0.22558594, -0.06787109,\n",
       "       -0.16699219,  0.2421875 ,  0.05712891,  0.27539062, -0.0456543 ,\n",
       "       -0.19042969, -0.17285156,  0.00836182, -0.03271484,  0.16992188,\n",
       "       -0.18554688, -0.0703125 , -0.32617188, -0.00668335, -0.02770996,\n",
       "        0.3359375 ,  0.125     , -0.2109375 ,  0.06005859, -0.07080078,\n",
       "        0.11132812,  0.125     ,  0.25390625,  0.29296875, -0.03125   ,\n",
       "        0.09033203, -0.20507812, -0.07861328,  0.02062988, -0.0546875 ,\n",
       "       -0.23339844,  0.00096893, -0.04516602,  0.16894531, -0.22167969,\n",
       "        0.08105469,  0.33398438,  0.09619141,  0.00866699, -0.03271484,\n",
       "        0.05493164,  0.12109375,  0.16210938, -0.10302734,  0.27148438,\n",
       "       -0.03344727, -0.30273438,  0.04223633,  0.08496094, -0.15527344,\n",
       "        0.10107422, -0.11474609, -0.13085938,  0.22949219,  0.12988281,\n",
       "        0.09863281, -0.03588867,  0.10693359, -0.24902344,  0.19238281,\n",
       "       -0.05322266, -0.09033203, -0.31640625, -0.5703125 , -0.15917969,\n",
       "        0.0291748 , -0.0246582 , -0.07714844, -0.04663086, -0.17578125])"
      ]
     },
     "execution_count": 120,
     "metadata": {},
     "output_type": "execute_result"
    }
   ],
   "source": [
    "# let's look at an embedding of a word\n",
    "embedding_weights[word_tokenizer.word_index['joy']]"
   ]
  },
  {
   "cell_type": "code",
   "execution_count": 121,
   "metadata": {},
   "outputs": [],
   "source": [
    "# use Keras' to_categorical function to one-hot encode Y\n",
    "Y = to_categorical(Y)"
   ]
  },
  {
   "cell_type": "code",
   "execution_count": 122,
   "metadata": {},
   "outputs": [
    {
     "name": "stdout",
     "output_type": "stream",
     "text": [
      "(25825, 40, 4)\n"
     ]
    }
   ],
   "source": [
    "print(Y.shape)"
   ]
  },
  {
   "cell_type": "code",
   "execution_count": null,
   "metadata": {},
   "outputs": [],
   "source": []
  },
  {
   "cell_type": "code",
   "execution_count": 123,
   "metadata": {},
   "outputs": [],
   "source": [
    "# split entire data into training and testing sets\n",
    "TEST_SIZE = 0.15\n",
    "X_train, X_test, Y_train, Y_test = train_test_split(X, Y, test_size=TEST_SIZE, random_state=4)"
   ]
  },
  {
   "cell_type": "code",
   "execution_count": 124,
   "metadata": {},
   "outputs": [],
   "source": [
    "# split training data into training and validation sets\n",
    "VALID_SIZE = 0.15\n",
    "X_train, X_validation, Y_train, Y_validation = train_test_split(X_train, Y_train, test_size=VALID_SIZE, random_state=4)"
   ]
  },
  {
   "cell_type": "code",
   "execution_count": 125,
   "metadata": {},
   "outputs": [
    {
     "name": "stdout",
     "output_type": "stream",
     "text": [
      "TRAINING DATA\n",
      "Shape of input sequences: (18658, 40)\n",
      "Shape of output sequences: (18658, 40, 4)\n",
      "--------------------------------------------------\n",
      "VALIDATION DATA\n",
      "Shape of input sequences: (3293, 40)\n",
      "Shape of output sequences: (3293, 40, 4)\n",
      "--------------------------------------------------\n",
      "TESTING DATA\n",
      "Shape of input sequences: (3874, 40)\n",
      "Shape of output sequences: (3874, 40, 4)\n"
     ]
    }
   ],
   "source": [
    "# print number of samples in each set\n",
    "print(\"TRAINING DATA\")\n",
    "print('Shape of input sequences: {}'.format(X_train.shape))\n",
    "print('Shape of output sequences: {}'.format(Y_train.shape))\n",
    "print(\"-\"*50)\n",
    "print(\"VALIDATION DATA\")\n",
    "print('Shape of input sequences: {}'.format(X_validation.shape))\n",
    "print('Shape of output sequences: {}'.format(Y_validation.shape))\n",
    "print(\"-\"*50)\n",
    "print(\"TESTING DATA\")\n",
    "print('Shape of input sequences: {}'.format(X_test.shape))\n",
    "print('Shape of output sequences: {}'.format(Y_test.shape))"
   ]
  },
  {
   "cell_type": "code",
   "execution_count": 126,
   "metadata": {},
   "outputs": [],
   "source": [
    "# total number of tags\n",
    "NUM_CLASSES = Y.shape[2]"
   ]
  },
  {
   "cell_type": "code",
   "execution_count": null,
   "metadata": {},
   "outputs": [],
   "source": []
  },
  {
   "cell_type": "code",
   "execution_count": 127,
   "metadata": {},
   "outputs": [],
   "source": [
    "# create architecture\n",
    "\n",
    "rnn_model = Sequential()\n",
    "\n",
    "# create embedding layer - usually the first layer in text problems\n",
    "rnn_model.add(Embedding(input_dim     =  VOCABULARY_SIZE,         # vocabulary size - number of unique words in data\n",
    "                        output_dim    =  EMBEDDING_SIZE,          # length of vector with which each word is represented\n",
    "                        input_length  =  MAX_SEQ_LENGTH,          # length of input sequence\n",
    "                        trainable     =  False                    # False - don't update the embeddings\n",
    "))\n",
    "\n",
    "# add an RNN layer which contains 64 RNN cells\n",
    "rnn_model.add(SimpleRNN(64, \n",
    "              return_sequences=True  # True - return whole sequence; False - return single output of the end of the sequence\n",
    "))\n",
    "\n",
    "# add time distributed (output at each sequence) layer\n",
    "rnn_model.add(TimeDistributed(Dense(NUM_CLASSES, activation='softmax')))\n"
   ]
  },
  {
   "cell_type": "code",
   "execution_count": 128,
   "metadata": {},
   "outputs": [
    {
     "name": "stdout",
     "output_type": "stream",
     "text": [
      "Model: \"sequential_2\"\n",
      "_________________________________________________________________\n",
      "Layer (type)                 Output Shape              Param #   \n",
      "=================================================================\n",
      "embedding_2 (Embedding)      (None, 40, 300)           9017700   \n",
      "_________________________________________________________________\n",
      "simple_rnn_1 (SimpleRNN)     (None, 40, 64)            23360     \n",
      "_________________________________________________________________\n",
      "time_distributed_2 (TimeDist (None, 40, 4)             260       \n",
      "=================================================================\n",
      "Total params: 9,041,320\n",
      "Trainable params: 23,620\n",
      "Non-trainable params: 9,017,700\n",
      "_________________________________________________________________\n"
     ]
    }
   ],
   "source": [
    "rnn_model.summary()"
   ]
  },
  {
   "cell_type": "code",
   "execution_count": 129,
   "metadata": {},
   "outputs": [],
   "source": [
    "rnn_model.compile(loss      =  'categorical_crossentropy',\n",
    "                  optimizer =  'adam',\n",
    "                  metrics   =  ['acc'])"
   ]
  },
  {
   "cell_type": "code",
   "execution_count": 130,
   "metadata": {},
   "outputs": [
    {
     "name": "stdout",
     "output_type": "stream",
     "text": [
      "Model: \"sequential_2\"\n",
      "_________________________________________________________________\n",
      "Layer (type)                 Output Shape              Param #   \n",
      "=================================================================\n",
      "embedding_2 (Embedding)      (None, 40, 300)           9017700   \n",
      "_________________________________________________________________\n",
      "simple_rnn_1 (SimpleRNN)     (None, 40, 64)            23360     \n",
      "_________________________________________________________________\n",
      "time_distributed_2 (TimeDist (None, 40, 4)             260       \n",
      "=================================================================\n",
      "Total params: 9,041,320\n",
      "Trainable params: 23,620\n",
      "Non-trainable params: 9,017,700\n",
      "_________________________________________________________________\n"
     ]
    }
   ],
   "source": [
    "# check summary of the model\n",
    "rnn_model.summary()"
   ]
  },
  {
   "cell_type": "code",
   "execution_count": 131,
   "metadata": {},
   "outputs": [
    {
     "name": "stdout",
     "output_type": "stream",
     "text": [
      "Epoch 1/10\n",
      "146/146 [==============================] - 5s 25ms/step - loss: 0.3540 - acc: 0.9327 - val_loss: 0.0647 - val_acc: 0.9860\n",
      "Epoch 2/10\n",
      "146/146 [==============================] - 3s 24ms/step - loss: 0.0575 - acc: 0.9903 - val_loss: 0.0454 - val_acc: 0.9930\n",
      "Epoch 3/10\n",
      "146/146 [==============================] - 3s 23ms/step - loss: 0.0437 - acc: 0.9931 - val_loss: 0.0404 - val_acc: 0.9933\n",
      "Epoch 4/10\n",
      "146/146 [==============================] - 3s 23ms/step - loss: 0.0401 - acc: 0.9932 - val_loss: 0.0382 - val_acc: 0.9933\n",
      "Epoch 5/10\n",
      "146/146 [==============================] - 4s 24ms/step - loss: 0.0388 - acc: 0.9931 - val_loss: 0.0371 - val_acc: 0.9934\n",
      "Epoch 6/10\n",
      "146/146 [==============================] - 3s 24ms/step - loss: 0.0381 - acc: 0.9931 - val_loss: 0.0362 - val_acc: 0.9934\n",
      "Epoch 7/10\n",
      "146/146 [==============================] - 3s 24ms/step - loss: 0.0364 - acc: 0.9933 - val_loss: 0.0351 - val_acc: 0.9935\n",
      "Epoch 8/10\n",
      "146/146 [==============================] - 3s 24ms/step - loss: 0.0352 - acc: 0.9934 - val_loss: 0.0345 - val_acc: 0.9935\n",
      "Epoch 9/10\n",
      "146/146 [==============================] - 3s 24ms/step - loss: 0.0352 - acc: 0.9933 - val_loss: 0.0341 - val_acc: 0.9935\n",
      "Epoch 10/10\n",
      "146/146 [==============================] - 3s 23ms/step - loss: 0.0342 - acc: 0.9934 - val_loss: 0.0336 - val_acc: 0.9935\n"
     ]
    }
   ],
   "source": [
    "rnn_training = rnn_model.fit(X_train, Y_train, batch_size=128, epochs=10, validation_data=(X_validation, Y_validation))"
   ]
  },
  {
   "cell_type": "code",
   "execution_count": 132,
   "metadata": {},
   "outputs": [
    {
     "data": {
      "image/png": "[encoded data removed]",
      "text/plain": [
       "<Figure size 432x288 with 1 Axes>"
      ]
     },
     "metadata": {
      "needs_background": "light"
     },
     "output_type": "display_data"
    }
   ],
   "source": [
    "# visualise training history\n",
    "plt.plot(rnn_training.history['acc'])\n",
    "plt.plot(rnn_training.history['val_acc'])\n",
    "plt.title('model accuracy')\n",
    "plt.ylabel('accuracy')\n",
    "plt.xlabel('epoch')\n",
    "plt.legend(['train', 'test'], loc=\"lower right\")\n",
    "plt.show()"
   ]
  },
  {
   "cell_type": "code",
   "execution_count": 133,
   "metadata": {},
   "outputs": [],
   "source": [
    "# create architecture\n",
    "\n",
    "bidirect_model = Sequential()\n",
    "bidirect_model.add(Embedding(input_dim     = VOCABULARY_SIZE,\n",
    "                             output_dim    = EMBEDDING_SIZE,\n",
    "                             input_length  = MAX_SEQ_LENGTH,\n",
    "                             weights       = [embedding_weights],\n",
    "                             trainable     = True\n",
    "))\n",
    "bidirect_model.add(Bidirectional(LSTM(64, return_sequences=True)))\n",
    "bidirect_model.add(TimeDistributed(Dense(NUM_CLASSES, activation='softmax')))"
   ]
  },
  {
   "cell_type": "code",
   "execution_count": 134,
   "metadata": {},
   "outputs": [
    {
     "name": "stdout",
     "output_type": "stream",
     "text": [
      "Model: \"sequential_3\"\n",
      "_________________________________________________________________\n",
      "Layer (type)                 Output Shape              Param #   \n",
      "=================================================================\n",
      "embedding_3 (Embedding)      (None, 40, 300)           9017700   \n",
      "_________________________________________________________________\n",
      "bidirectional_1 (Bidirection (None, 40, 128)           186880    \n",
      "_________________________________________________________________\n",
      "time_distributed_3 (TimeDist (None, 40, 4)             516       \n",
      "=================================================================\n",
      "Total params: 9,205,096\n",
      "Trainable params: 9,205,096\n",
      "Non-trainable params: 0\n",
      "_________________________________________________________________\n"
     ]
    }
   ],
   "source": [
    "bidirect_model.summary()"
   ]
  },
  {
   "cell_type": "code",
   "execution_count": 135,
   "metadata": {},
   "outputs": [],
   "source": [
    "bidirect_model.compile(loss='categorical_crossentropy',\n",
    "              optimizer='adam',\n",
    "              metrics=['acc'])"
   ]
  },
  {
   "cell_type": "code",
   "execution_count": 136,
   "metadata": {},
   "outputs": [
    {
     "name": "stdout",
     "output_type": "stream",
     "text": [
      "Model: \"sequential_3\"\n",
      "_________________________________________________________________\n",
      "Layer (type)                 Output Shape              Param #   \n",
      "=================================================================\n",
      "embedding_3 (Embedding)      (None, 40, 300)           9017700   \n",
      "_________________________________________________________________\n",
      "bidirectional_1 (Bidirection (None, 40, 128)           186880    \n",
      "_________________________________________________________________\n",
      "time_distributed_3 (TimeDist (None, 40, 4)             516       \n",
      "=================================================================\n",
      "Total params: 9,205,096\n",
      "Trainable params: 9,205,096\n",
      "Non-trainable params: 0\n",
      "_________________________________________________________________\n"
     ]
    }
   ],
   "source": [
    "# check summary of model\n",
    "bidirect_model.summary()"
   ]
  },
  {
   "cell_type": "code",
   "execution_count": 137,
   "metadata": {},
   "outputs": [
    {
     "name": "stdout",
     "output_type": "stream",
     "text": [
      "Epoch 1/10\n",
      "146/146 [==============================] - 28s 163ms/step - loss: 0.3917 - acc: 0.9422 - val_loss: 0.0369 - val_acc: 0.9929\n",
      "Epoch 2/10\n",
      "146/146 [==============================] - 22s 154ms/step - loss: 0.0329 - acc: 0.9933 - val_loss: 0.0276 - val_acc: 0.9933\n",
      "Epoch 3/10\n",
      "146/146 [==============================] - 22s 152ms/step - loss: 0.0237 - acc: 0.9937 - val_loss: 0.0260 - val_acc: 0.9931\n",
      "Epoch 4/10\n",
      "146/146 [==============================] - 22s 150ms/step - loss: 0.0212 - acc: 0.9936 - val_loss: 0.0251 - val_acc: 0.9932\n",
      "Epoch 5/10\n",
      "146/146 [==============================] - 22s 148ms/step - loss: 0.0190 - acc: 0.9939 - val_loss: 0.0247 - val_acc: 0.9933\n",
      "Epoch 6/10\n",
      "146/146 [==============================] - 21s 146ms/step - loss: 0.0149 - acc: 0.9951 - val_loss: 0.0259 - val_acc: 0.9929\n",
      "Epoch 7/10\n",
      "146/146 [==============================] - 21s 146ms/step - loss: 0.0114 - acc: 0.9962 - val_loss: 0.0284 - val_acc: 0.9926\n",
      "Epoch 8/10\n",
      "146/146 [==============================] - 22s 148ms/step - loss: 0.0090 - acc: 0.9971 - val_loss: 0.0317 - val_acc: 0.9926\n",
      "Epoch 9/10\n",
      "146/146 [==============================] - 24s 164ms/step - loss: 0.0071 - acc: 0.9976 - val_loss: 0.0335 - val_acc: 0.9921\n",
      "Epoch 10/10\n",
      "146/146 [==============================] - 24s 163ms/step - loss: 0.0056 - acc: 0.9982 - val_loss: 0.0353 - val_acc: 0.9920\n"
     ]
    }
   ],
   "source": [
    "bidirect_training = bidirect_model.fit(X_train, Y_train, batch_size=128, epochs=10, validation_data=(X_validation, Y_validation))"
   ]
  },
  {
   "cell_type": "code",
   "execution_count": 138,
   "metadata": {},
   "outputs": [
    {
     "data": {
      "image/png": "[encoded data removed]",
      "text/plain": [
       "<Figure size 432x288 with 1 Axes>"
      ]
     },
     "metadata": {
      "needs_background": "light"
     },
     "output_type": "display_data"
    }
   ],
   "source": [
    "# visualise training history\n",
    "plt.plot(bidirect_training.history['acc'])\n",
    "plt.plot(bidirect_training.history['val_acc'])\n",
    "plt.title('model accuracy')\n",
    "plt.ylabel('accuracy')\n",
    "plt.xlabel('epoch')\n",
    "plt.legend(['train', 'test'], loc=\"lower right\")\n",
    "plt.show()\n"
   ]
  },
  {
   "cell_type": "markdown",
   "metadata": {},
   "source": [
    "## Test Metrics"
   ]
  },
  {
   "cell_type": "code",
   "execution_count": 140,
   "metadata": {},
   "outputs": [],
   "source": [
    "X_val = [] # store input sequence\n",
    "Y_val = [] # store output sequence\n",
    "\n",
    "for sentence in tagged_sentences:\n",
    "    X_sentence = []\n",
    "    Y_sentence = []\n",
    "    for entity in sentence:         \n",
    "        X_sentence.append(entity[0])  # entity[0] contains the word\n",
    "        Y_sentence.append(entity[1])  # entity[1] contains corresponding tag\n",
    "        \n",
    "    X_val.append(X_sentence)\n",
    "    Y_val.append(Y_sentence)"
   ]
  },
  {
   "cell_type": "code",
   "execution_count": 141,
   "metadata": {},
   "outputs": [],
   "source": [
    "X_val_encoded = word_tokenizer.texts_to_sequences(X_val) \n",
    "Y_val_encoded = tag_tokenizer.texts_to_sequences(Y_val)"
   ]
  },
  {
   "cell_type": "code",
   "execution_count": 142,
   "metadata": {},
   "outputs": [],
   "source": [
    "MAX_SEQ_LENGTH = 40 # sequences greater than 100 in length will be truncated\n",
    "\n",
    "X_val_padded = pad_sequences(X_val_encoded, maxlen=MAX_SEQ_LENGTH, padding=\"pre\", truncating=\"post\")\n",
    "Y_val_padded = pad_sequences(Y_val_encoded, maxlen=MAX_SEQ_LENGTH, padding=\"pre\", truncating=\"post\")"
   ]
  },
  {
   "cell_type": "code",
   "execution_count": 153,
   "metadata": {},
   "outputs": [],
   "source": [
    "X_val, Y_val = X_val_padded, Y_val_padded"
   ]
  },
  {
   "cell_type": "code",
   "execution_count": 154,
   "metadata": {},
   "outputs": [],
   "source": [
    "Y_val = to_categorical(Y_val)"
   ]
  },
  {
   "cell_type": "code",
   "execution_count": 155,
   "metadata": {},
   "outputs": [],
   "source": [
    "Y_val_predict=bidirect_model.predict_classes(X_val)"
   ]
  },
  {
   "cell_type": "code",
   "execution_count": 152,
   "metadata": {},
   "outputs": [
    {
     "data": {
      "text/plain": [
       "array([[[1., 0., 0., 0.],\n",
       "        [1., 0., 0., 0.],\n",
       "        [1., 0., 0., 0.],\n",
       "        ...,\n",
       "        [0., 1., 0., 0.],\n",
       "        [0., 1., 0., 0.],\n",
       "        [0., 1., 0., 0.]],\n",
       "\n",
       "       [[1., 0., 0., 0.],\n",
       "        [1., 0., 0., 0.],\n",
       "        [1., 0., 0., 0.],\n",
       "        ...,\n",
       "        [0., 1., 0., 0.],\n",
       "        [0., 1., 0., 0.],\n",
       "        [0., 1., 0., 0.]],\n",
       "\n",
       "       [[0., 1., 0., 0.],\n",
       "        [0., 1., 0., 0.],\n",
       "        [0., 1., 0., 0.],\n",
       "        ...,\n",
       "        [0., 1., 0., 0.],\n",
       "        [0., 1., 0., 0.],\n",
       "        [0., 1., 0., 0.]],\n",
       "\n",
       "       ...,\n",
       "\n",
       "       [[1., 0., 0., 0.],\n",
       "        [1., 0., 0., 0.],\n",
       "        [1., 0., 0., 0.],\n",
       "        ...,\n",
       "        [0., 1., 0., 0.],\n",
       "        [0., 1., 0., 0.],\n",
       "        [0., 1., 0., 0.]],\n",
       "\n",
       "       [[1., 0., 0., 0.],\n",
       "        [1., 0., 0., 0.],\n",
       "        [1., 0., 0., 0.],\n",
       "        ...,\n",
       "        [0., 1., 0., 0.],\n",
       "        [0., 0., 0., 1.],\n",
       "        [0., 1., 0., 0.]],\n",
       "\n",
       "       [[1., 0., 0., 0.],\n",
       "        [1., 0., 0., 0.],\n",
       "        [1., 0., 0., 0.],\n",
       "        ...,\n",
       "        [0., 1., 0., 0.],\n",
       "        [0., 1., 0., 0.],\n",
       "        [0., 1., 0., 0.]]], dtype=float32)"
      ]
     },
     "execution_count": 152,
     "metadata": {},
     "output_type": "execute_result"
    }
   ],
   "source": [
    "Y_val"
   ]
  },
  {
   "cell_type": "code",
   "execution_count": 150,
   "metadata": {},
   "outputs": [
    {
     "data": {
      "text/plain": [
       "array([[0, 0, 0, ..., 1, 1, 1],\n",
       "       [0, 0, 0, ..., 1, 1, 1],\n",
       "       [1, 1, 1, ..., 1, 1, 1],\n",
       "       ...,\n",
       "       [0, 0, 0, ..., 1, 1, 1],\n",
       "       [0, 0, 0, ..., 1, 1, 1],\n",
       "       [0, 0, 0, ..., 1, 1, 1]])"
      ]
     },
     "execution_count": 150,
     "metadata": {},
     "output_type": "execute_result"
    }
   ],
   "source": [
    "Y_val_predict"
   ]
  },
  {
   "cell_type": "code",
   "execution_count": 75,
   "metadata": {},
   "outputs": [],
   "source": [
    "from sklearn.metrics import confusion_matrix"
   ]
  },
  {
   "cell_type": "code",
   "execution_count": 105,
   "metadata": {},
   "outputs": [
    {
     "ename": "ValueError",
     "evalue": "Classification metrics can't handle a mix of unknown and multiclass-multioutput targets",
     "output_type": "error",
     "traceback": [
      "\u001b[0;31m---------------------------------------------------------------------------\u001b[0m",
      "\u001b[0;31mValueError\u001b[0m                                Traceback (most recent call last)",
      "\u001b[0;32m<ipython-input-105-f20c2135af2a>\u001b[0m in \u001b[0;36m<module>\u001b[0;34m\u001b[0m\n\u001b[0;32m----> 1\u001b[0;31m \u001b[0mconfusion_matrix\u001b[0m\u001b[0;34m(\u001b[0m\u001b[0mY_val\u001b[0m\u001b[0;34m,\u001b[0m \u001b[0mY_val_predict\u001b[0m\u001b[0;34m)\u001b[0m\u001b[0;34m\u001b[0m\u001b[0;34m\u001b[0m\u001b[0m\n\u001b[0m",
      "\u001b[0;32m/opt/conda/lib/python3.8/site-packages/sklearn/utils/validation.py\u001b[0m in \u001b[0;36minner_f\u001b[0;34m(*args, **kwargs)\u001b[0m\n\u001b[1;32m     70\u001b[0m                           FutureWarning)\n\u001b[1;32m     71\u001b[0m         \u001b[0mkwargs\u001b[0m\u001b[0;34m.\u001b[0m\u001b[0mupdate\u001b[0m\u001b[0;34m(\u001b[0m\u001b[0;34m{\u001b[0m\u001b[0mk\u001b[0m\u001b[0;34m:\u001b[0m \u001b[0marg\u001b[0m \u001b[0;32mfor\u001b[0m \u001b[0mk\u001b[0m\u001b[0;34m,\u001b[0m \u001b[0marg\u001b[0m \u001b[0;32min\u001b[0m \u001b[0mzip\u001b[0m\u001b[0;34m(\u001b[0m\u001b[0msig\u001b[0m\u001b[0;34m.\u001b[0m\u001b[0mparameters\u001b[0m\u001b[0;34m,\u001b[0m \u001b[0margs\u001b[0m\u001b[0;34m)\u001b[0m\u001b[0;34m}\u001b[0m\u001b[0;34m)\u001b[0m\u001b[0;34m\u001b[0m\u001b[0;34m\u001b[0m\u001b[0m\n\u001b[0;32m---> 72\u001b[0;31m         \u001b[0;32mreturn\u001b[0m \u001b[0mf\u001b[0m\u001b[0;34m(\u001b[0m\u001b[0;34m**\u001b[0m\u001b[0mkwargs\u001b[0m\u001b[0;34m)\u001b[0m\u001b[0;34m\u001b[0m\u001b[0;34m\u001b[0m\u001b[0m\n\u001b[0m\u001b[1;32m     73\u001b[0m     \u001b[0;32mreturn\u001b[0m \u001b[0minner_f\u001b[0m\u001b[0;34m\u001b[0m\u001b[0;34m\u001b[0m\u001b[0m\n\u001b[1;32m     74\u001b[0m \u001b[0;34m\u001b[0m\u001b[0m\n",
      "\u001b[0;32m/opt/conda/lib/python3.8/site-packages/sklearn/metrics/_classification.py\u001b[0m in \u001b[0;36mconfusion_matrix\u001b[0;34m(y_true, y_pred, labels, sample_weight, normalize)\u001b[0m\n\u001b[1;32m    274\u001b[0m \u001b[0;34m\u001b[0m\u001b[0m\n\u001b[1;32m    275\u001b[0m     \"\"\"\n\u001b[0;32m--> 276\u001b[0;31m     \u001b[0my_type\u001b[0m\u001b[0;34m,\u001b[0m \u001b[0my_true\u001b[0m\u001b[0;34m,\u001b[0m \u001b[0my_pred\u001b[0m \u001b[0;34m=\u001b[0m \u001b[0m_check_targets\u001b[0m\u001b[0;34m(\u001b[0m\u001b[0my_true\u001b[0m\u001b[0;34m,\u001b[0m \u001b[0my_pred\u001b[0m\u001b[0;34m)\u001b[0m\u001b[0;34m\u001b[0m\u001b[0;34m\u001b[0m\u001b[0m\n\u001b[0m\u001b[1;32m    277\u001b[0m     \u001b[0;32mif\u001b[0m \u001b[0my_type\u001b[0m \u001b[0;32mnot\u001b[0m \u001b[0;32min\u001b[0m \u001b[0;34m(\u001b[0m\u001b[0;34m\"binary\"\u001b[0m\u001b[0;34m,\u001b[0m \u001b[0;34m\"multiclass\"\u001b[0m\u001b[0;34m)\u001b[0m\u001b[0;34m:\u001b[0m\u001b[0;34m\u001b[0m\u001b[0;34m\u001b[0m\u001b[0m\n\u001b[1;32m    278\u001b[0m         \u001b[0;32mraise\u001b[0m \u001b[0mValueError\u001b[0m\u001b[0;34m(\u001b[0m\u001b[0;34m\"%s is not supported\"\u001b[0m \u001b[0;34m%\u001b[0m \u001b[0my_type\u001b[0m\u001b[0;34m)\u001b[0m\u001b[0;34m\u001b[0m\u001b[0;34m\u001b[0m\u001b[0m\n",
      "\u001b[0;32m/opt/conda/lib/python3.8/site-packages/sklearn/metrics/_classification.py\u001b[0m in \u001b[0;36m_check_targets\u001b[0;34m(y_true, y_pred)\u001b[0m\n\u001b[1;32m     88\u001b[0m \u001b[0;34m\u001b[0m\u001b[0m\n\u001b[1;32m     89\u001b[0m     \u001b[0;32mif\u001b[0m \u001b[0mlen\u001b[0m\u001b[0;34m(\u001b[0m\u001b[0my_type\u001b[0m\u001b[0;34m)\u001b[0m \u001b[0;34m>\u001b[0m \u001b[0;36m1\u001b[0m\u001b[0;34m:\u001b[0m\u001b[0;34m\u001b[0m\u001b[0;34m\u001b[0m\u001b[0m\n\u001b[0;32m---> 90\u001b[0;31m         raise ValueError(\"Classification metrics can't handle a mix of {0} \"\n\u001b[0m\u001b[1;32m     91\u001b[0m                          \"and {1} targets\".format(type_true, type_pred))\n\u001b[1;32m     92\u001b[0m \u001b[0;34m\u001b[0m\u001b[0m\n",
      "\u001b[0;31mValueError\u001b[0m: Classification metrics can't handle a mix of unknown and multiclass-multioutput targets"
     ]
    }
   ],
   "source": [
    "confusion_matrix(Y_val, Y_val_predict)"
   ]
  },
  {
   "cell_type": "code",
   "execution_count": 100,
   "metadata": {},
   "outputs": [
    {
     "data": {
      "text/plain": [
       "array([[[9.99912381e-01, 2.29110065e-05, 5.91074831e-06, 5.87239847e-05],\n",
       "        [9.99975681e-01, 4.18646005e-06, 2.04926846e-06, 1.81028918e-05],\n",
       "        [9.99993205e-01, 7.55036638e-07, 6.99561156e-07, 5.33346110e-06],\n",
       "        ...,\n",
       "        [1.88970444e-06, 9.99821126e-01, 3.49944785e-05, 1.41961951e-04],\n",
       "        [3.97596932e-06, 9.98619676e-01, 7.04175560e-04, 6.72290858e-04],\n",
       "        [4.75862180e-06, 9.99780476e-01, 5.24999450e-05, 1.62306518e-04]],\n",
       "\n",
       "       [[9.99912381e-01, 2.29108755e-05, 5.91080470e-06, 5.87244358e-05],\n",
       "        [9.99975681e-01, 4.18643594e-06, 2.04929188e-06, 1.81030646e-05],\n",
       "        [9.99993205e-01, 7.55030896e-07, 6.99569171e-07, 5.33350703e-06],\n",
       "        ...,\n",
       "        [3.52561187e-07, 9.99882817e-01, 3.79329213e-05, 7.88882535e-05],\n",
       "        [1.12420421e-04, 8.66280556e-01, 1.26135513e-01, 7.47153396e-03],\n",
       "        [1.13861495e-06, 9.99923348e-01, 1.42320032e-05, 6.12876902e-05]],\n",
       "\n",
       "       [[9.99912381e-01, 2.29168636e-05, 5.90855007e-06, 5.87065151e-05],\n",
       "        [9.99975681e-01, 4.18764967e-06, 2.04843218e-06, 1.80969710e-05],\n",
       "        [9.99993205e-01, 7.55271458e-07, 6.99243685e-07, 5.33151342e-06],\n",
       "        ...,\n",
       "        [2.46453027e-07, 9.99776423e-01, 1.01941056e-04, 1.21479308e-04],\n",
       "        [2.67881035e-07, 9.99918938e-01, 1.75763471e-05, 6.33490854e-05],\n",
       "        [4.94883352e-07, 9.99951363e-01, 8.28056636e-06, 3.98851298e-05]],\n",
       "\n",
       "       ...,\n",
       "\n",
       "       [[9.99912381e-01, 2.29107882e-05, 5.91081562e-06, 5.87245449e-05],\n",
       "        [9.99975681e-01, 4.18642412e-06, 2.04929574e-06, 1.81030991e-05],\n",
       "        [9.99993205e-01, 7.55028736e-07, 6.99570478e-07, 5.33351704e-06],\n",
       "        ...,\n",
       "        [2.38829991e-04, 9.79768574e-01, 1.36819454e-02, 6.31062826e-03],\n",
       "        [3.52334359e-06, 9.99863386e-01, 2.52777299e-05, 1.07781671e-04],\n",
       "        [1.35585026e-06, 9.99910235e-01, 2.07783069e-05, 6.76776326e-05]],\n",
       "\n",
       "       [[9.99912381e-01, 2.29110065e-05, 5.91074831e-06, 5.87239847e-05],\n",
       "        [9.99975681e-01, 4.18646778e-06, 2.04927051e-06, 1.81028918e-05],\n",
       "        [9.99993205e-01, 7.55037377e-07, 6.99561156e-07, 5.33345610e-06],\n",
       "        ...,\n",
       "        [1.52511871e-06, 9.99784529e-01, 5.32581034e-05, 1.60652940e-04],\n",
       "        [1.28755331e-04, 9.80719209e-01, 4.46648849e-03, 1.46856261e-02],\n",
       "        [1.14210650e-06, 9.99918103e-01, 1.00946054e-05, 7.06065475e-05]],\n",
       "\n",
       "       [[9.99912381e-01, 2.29109410e-05, 5.91078197e-06, 5.87242685e-05],\n",
       "        [9.99975681e-01, 4.18645186e-06, 2.04928210e-06, 1.81029955e-05],\n",
       "        [9.99993205e-01, 7.55033057e-07, 6.99565135e-07, 5.33347657e-06],\n",
       "        ...,\n",
       "        [1.17307934e-06, 9.99734581e-01, 6.62931416e-05, 1.97908725e-04],\n",
       "        [1.54512657e-06, 9.99735534e-01, 1.52034918e-04, 1.10806883e-04],\n",
       "        [8.98494022e-07, 9.99929070e-01, 1.53332658e-05, 5.45648581e-05]]],\n",
       "      dtype=float32)"
      ]
     },
     "execution_count": 100,
     "metadata": {},
     "output_type": "execute_result"
    }
   ],
   "source": [
    "Y_val_predict"
   ]
  },
  {
   "cell_type": "code",
   "execution_count": 102,
   "metadata": {},
   "outputs": [
    {
     "name": "stdout",
     "output_type": "stream",
     "text": [
      "122/122 [==============================] - 4s 31ms/step - loss: 0.0130 - acc: 0.9968\n"
     ]
    }
   ],
   "source": [
    "loss, accuracy = bidirect_model.evaluate(X_test, Y_test, verbose = 1)"
   ]
  },
  {
   "cell_type": "code",
   "execution_count": 103,
   "metadata": {},
   "outputs": [
    {
     "name": "stderr",
     "output_type": "stream",
     "text": [
      "/opt/conda/lib/python3.8/site-packages/tensorflow/python/keras/engine/sequential.py:450: UserWarning: `model.predict_classes()` is deprecated and will be removed after 2021-01-01. Please use instead:* `np.argmax(model.predict(x), axis=-1)`,   if your model does multi-class classification   (e.g. if it uses a `softmax` last-layer activation).* `(model.predict(x) > 0.5).astype(\"int32\")`,   if your model does binary classification   (e.g. if it uses a `sigmoid` last-layer activation).\n",
      "  warnings.warn('`model.predict_classes()` is deprecated and '\n"
     ]
    },
    {
     "data": {
      "text/plain": [
       "array([[0, 0, 0, ..., 1, 1, 1],\n",
       "       [0, 0, 0, ..., 1, 1, 1],\n",
       "       [0, 0, 0, ..., 1, 1, 1],\n",
       "       ...,\n",
       "       [0, 0, 0, ..., 1, 1, 1],\n",
       "       [0, 0, 0, ..., 1, 1, 1],\n",
       "       [0, 0, 0, ..., 1, 1, 1]])"
      ]
     },
     "execution_count": 103,
     "metadata": {},
     "output_type": "execute_result"
    }
   ],
   "source": [
    "bidirect_model.predict_classes(X_test)"
   ]
  },
  {
   "cell_type": "code",
   "execution_count": 96,
   "metadata": {},
   "outputs": [],
   "source": [
    "zz = np.argmax(Y_val_predict,2)"
   ]
  },
  {
   "cell_type": "code",
   "execution_count": 98,
   "metadata": {},
   "outputs": [
    {
     "data": {
      "text/plain": [
       "array([[0, 0, 0, ..., 1, 1, 1],\n",
       "       [0, 0, 0, ..., 1, 1, 1],\n",
       "       [0, 0, 0, ..., 1, 1, 1],\n",
       "       ...,\n",
       "       [0, 0, 0, ..., 1, 1, 1],\n",
       "       [0, 0, 0, ..., 1, 1, 1],\n",
       "       [0, 0, 0, ..., 1, 1, 1]])"
      ]
     },
     "execution_count": 98,
     "metadata": {},
     "output_type": "execute_result"
    }
   ],
   "source": [
    "zz"
   ]
  },
  {
   "cell_type": "code",
   "execution_count": 99,
   "metadata": {},
   "outputs": [
    {
     "data": {
      "text/plain": [
       "array([[[1., 0., 0., 0.],\n",
       "        [1., 0., 0., 0.],\n",
       "        [1., 0., 0., 0.],\n",
       "        ...,\n",
       "        [0., 1., 0., 0.],\n",
       "        [0., 1., 0., 0.],\n",
       "        [0., 1., 0., 0.]],\n",
       "\n",
       "       [[1., 0., 0., 0.],\n",
       "        [1., 0., 0., 0.],\n",
       "        [1., 0., 0., 0.],\n",
       "        ...,\n",
       "        [0., 1., 0., 0.],\n",
       "        [0., 1., 0., 0.],\n",
       "        [0., 1., 0., 0.]],\n",
       "\n",
       "       [[1., 0., 0., 0.],\n",
       "        [1., 0., 0., 0.],\n",
       "        [1., 0., 0., 0.],\n",
       "        ...,\n",
       "        [0., 1., 0., 0.],\n",
       "        [0., 1., 0., 0.],\n",
       "        [0., 1., 0., 0.]],\n",
       "\n",
       "       ...,\n",
       "\n",
       "       [[1., 0., 0., 0.],\n",
       "        [1., 0., 0., 0.],\n",
       "        [1., 0., 0., 0.],\n",
       "        ...,\n",
       "        [0., 1., 0., 0.],\n",
       "        [0., 1., 0., 0.],\n",
       "        [0., 1., 0., 0.]],\n",
       "\n",
       "       [[1., 0., 0., 0.],\n",
       "        [1., 0., 0., 0.],\n",
       "        [1., 0., 0., 0.],\n",
       "        ...,\n",
       "        [0., 1., 0., 0.],\n",
       "        [0., 0., 0., 1.],\n",
       "        [0., 1., 0., 0.]],\n",
       "\n",
       "       [[1., 0., 0., 0.],\n",
       "        [1., 0., 0., 0.],\n",
       "        [1., 0., 0., 0.],\n",
       "        ...,\n",
       "        [0., 1., 0., 0.],\n",
       "        [0., 1., 0., 0.],\n",
       "        [0., 1., 0., 0.]]], dtype=float32)"
      ]
     },
     "execution_count": 99,
     "metadata": {},
     "output_type": "execute_result"
    }
   ],
   "source": [
    "Y_val"
   ]
  },
  {
   "cell_type": "code",
   "execution_count": null,
   "metadata": {},
   "outputs": [],
   "source": []
  }
 ],
 "metadata": {
  "kernelspec": {
   "display_name": "Python 3",
   "language": "python",
   "name": "python3"
  },
  "language_info": {
   "codemirror_mode": {
    "name": "ipython",
    "version": 3
   },
   "file_extension": ".py",
   "mimetype": "text/x-python",
   "name": "python",
   "nbconvert_exporter": "python",
   "pygments_lexer": "ipython3",
   "version": "3.8.6"
  }
 },
 "nbformat": 4,
 "nbformat_minor": 4
}
